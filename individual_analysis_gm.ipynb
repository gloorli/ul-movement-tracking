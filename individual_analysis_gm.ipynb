{
 "cells": [
  {
   "cell_type": "code",
   "execution_count": 24,
   "id": "38cb362b",
   "metadata": {},
   "outputs": [],
   "source": [
    "from zurich_move_data_extraction import *\n",
    "from activity_count_function import *\n",
    "from utilities import *\n",
    "from gm_function import *\n",
    "from individual_analysis_ac_functions import *\n",
    "from extract_mask_from_video import *\n",
    "from individual_analysis_fs_functions import *"
   ]
  },
  {
   "cell_type": "code",
   "execution_count": 25,
   "id": "c72e083a",
   "metadata": {},
   "outputs": [
    {
     "name": "stdout",
     "output_type": "stream",
     "text": [
      "../CreateStudy\\H001\n"
     ]
    }
   ],
   "source": [
    "#PATH \n",
    "\n",
    "initial_path = '../CreateStudy'\n",
    "\n",
    "# Change this value\n",
    "participant_id = 'HXXX'\n",
    "dominant_hand = 'Right'\n",
    "\n",
    "# Join the initial_path and participant_id\n",
    "participant_path = os.path.join(initial_path, participant_id)\n",
    "print(participant_path)"
   ]
  },
  {
   "cell_type": "code",
   "execution_count": 26,
   "id": "ed90f798",
   "metadata": {},
   "outputs": [
    {
     "name": "stdout",
     "output_type": "stream",
     "text": [
      "48264 48264\n"
     ]
    }
   ],
   "source": [
    "# Get the data from csv files \n",
    "ndh_data, chest_data, dh_data, GT_mask_ndh, GT_mask_dh = get_data(participant_path)\n",
    "# Ensure the array sizes consistency between masks and IMU data\n",
    "print (len(GT_mask_ndh)*2, len(ndh_data))"
   ]
  },
  {
   "cell_type": "code",
   "execution_count": 27,
   "id": "97ee3bc7",
   "metadata": {},
   "outputs": [],
   "source": [
    "# Get some usefull variables\n",
    "sampling_freq = 50\n",
    "acc_ndh = ndh_data[['acc_x', 'acc_y', 'acc_z']]\n",
    "acc_dh = dh_data[['acc_x', 'acc_y', 'acc_z']]\n",
    "gyro_ndh = ndh_data[['gyro_x', 'gyro_y', 'gyro_z']]\n",
    "gyro_dh = dh_data[['gyro_x', 'gyro_y', 'gyro_z']]\n",
    "mag_ndh = ndh_data[['magneto_x', 'magneto_y', 'magneto_z']]\n",
    "quat_sensor_ndh = ndh_data[['quat_0', 'quat_1', 'quat_2','quat_3']]\n",
    "quat_sensor_dh = dh_data[['quat_0', 'quat_1', 'quat_2','quat_3']]\n",
    "frequency_AC = 1 # Hz \n",
    "frequency_GM = 2 # Hz\n",
    "FPS_mask = 25 # Hz"
   ]
  },
  {
   "cell_type": "code",
   "execution_count": 28,
   "id": "bc30aa71",
   "metadata": {},
   "outputs": [],
   "source": [
    "# Get AC values \n",
    "AC_ndh_filename = 'count_brond_ndh.csv'\n",
    "AC_dh_filename = 'count_brond_dh.csv'\n",
    "\n",
    "AC_ndh_path = os.path.join(participant_path, AC_ndh_filename)\n",
    "AC_dh_path = os.path.join(participant_path, AC_dh_filename)\n",
    "\n",
    "AC_ndh, AC_dh = read_csv_to_numpy(AC_ndh_path, AC_dh_path)"
   ]
  },
  {
   "cell_type": "code",
   "execution_count": 29,
   "id": "87334b8b",
   "metadata": {},
   "outputs": [],
   "source": [
    "# MASK with WBM replaced by NF #"
   ]
  },
  {
   "cell_type": "code",
   "execution_count": 30,
   "id": "a52b39aa",
   "metadata": {},
   "outputs": [],
   "source": [
    "# Create masks with WBM converted into NF movement\n",
    "\n",
    "GT_mask_ndh_1Hz = downsample_mask_interpolation(GT_mask_ndh, FPS_mask, frequency_AC)\n",
    "GT_mask_dh_1Hz = downsample_mask_interpolation(GT_mask_dh, FPS_mask, frequency_AC)\n",
    "GT_mask_ndh_2Hz = downsample_mask_interpolation(GT_mask_ndh, FPS_mask, frequency_GM)\n",
    "GT_mask_dh_2Hz = downsample_mask_interpolation(GT_mask_dh, FPS_mask, frequency_GM)\n",
    "\n",
    "# Replace WBM mask by NF masks @ 25Hz \n",
    "GT_mask_ndh_wbm_into_nf = replace_wbm_with_nf(GT_mask_ndh).ravel()\n",
    "GT_mask_dh_wbm_into_nf = replace_wbm_with_nf(GT_mask_dh).ravel()\n",
    "\n",
    "# Replace WBM mask by NF masks @ 2Hz \n",
    "GT_mask_ndh_2Hz_wbm_into_nf = replace_wbm_with_nf(GT_mask_ndh_2Hz)\n",
    "GT_mask_dh_2Hz_wbm_into_nf = replace_wbm_with_nf(GT_mask_dh_2Hz)\n",
    "\n",
    "# Replace WBM mask by NF masks @ 1Hz \n",
    "GT_mask_ndh_1Hz_wbm_into_nf = replace_wbm_with_nf(GT_mask_ndh_1Hz)\n",
    "GT_mask_dh_1Hz_wbm_into_nf = replace_wbm_with_nf(GT_mask_dh_1Hz)\n",
    "\n",
    "# Trim dataset to ensure same size \n",
    "GT_mask_ndh_1Hz_wbm_into_nf, AC_ndh = remove_extra_elements(GT_mask_ndh_1Hz_wbm_into_nf, AC_ndh)\n",
    "GT_mask_dh_1Hz_wbm_into_nf, AC_dh = remove_extra_elements(GT_mask_dh_1Hz_wbm_into_nf, AC_dh)\n",
    "\n",
    "# Upsample the masks \n",
    "GT_mask_50Hz_ndh = resample_mask(GT_mask_ndh_wbm_into_nf, 25.0, 50.0)\n",
    "GT_mask_50Hz_dh = resample_mask(GT_mask_dh_wbm_into_nf, 25.0, 50.0)"
   ]
  },
  {
   "cell_type": "code",
   "execution_count": 31,
   "id": "1f80c479",
   "metadata": {},
   "outputs": [],
   "source": [
    "## GM "
   ]
  },
  {
   "cell_type": "code",
   "execution_count": 32,
   "id": "2b3af72a",
   "metadata": {},
   "outputs": [
    {
     "name": "stdout",
     "output_type": "stream",
     "text": [
      "Using IMU Madgwick with acc and gyro only\n",
      "Using IMU Madgwick with acc and gyro only\n"
     ]
    }
   ],
   "source": [
    "# Get Euler angles \n",
    "\n",
    "# Left wrist\n",
    "roll_mad_ndh, pitch_mad_ndh, yaw_mad_ndh = compute_euler_angles(acc_ndh, gyro_ndh, sampling_freq)\n",
    "#plot_angles_over_time(pitch_mad_ndh), plot_angles_over_time(yaw_mad_ndh)\n",
    "\n",
    "# Right wrist \n",
    "roll_mad_dh, pitch_mad_dh, yaw_mad_dh = compute_euler_angles(acc_dh, gyro_dh, sampling_freq)\n",
    "#plot_angles_over_time(pitch_mad_dh), plot_angles_over_time(yaw_mad_dh)"
   ]
  },
  {
   "cell_type": "code",
   "execution_count": 33,
   "id": "346d8d94",
   "metadata": {},
   "outputs": [],
   "source": [
    "# Computation of an optimal FS for the GM algorithm # "
   ]
  },
  {
   "cell_type": "code",
   "execution_count": null,
   "id": "9790cadc",
   "metadata": {},
   "outputs": [],
   "source": [
    "# Optimal Left wrist \n",
    "eval_metrics_fs_opt_ndh, optimal_fs_ndh = optimal_fs_computation(pitch_mad_ndh, yaw_mad_ndh, GT_mask_50Hz_ndh,\n",
    "                                                               k=5, random_state=42, optimal=True)\n",
    "\n",
    "# Conventional Left wrist \n",
    "eval_metrics_fs_conv_ndh, _ = optimal_fs_computation(pitch_mad_ndh, yaw_mad_ndh, GT_mask_50Hz_ndh,\n",
    "                                                    k=5, random_state=42, optimal=False)"
   ]
  },
  {
   "cell_type": "code",
   "execution_count": null,
   "id": "79f62302",
   "metadata": {},
   "outputs": [],
   "source": [
    "# Optimal Right wrist \n",
    "eval_metrics_fs_opt_dh, optimal_fs_dh = optimal_fs_computation(pitch_mad_dh, yaw_mad_dh, GT_mask_50Hz_dh,\n",
    "                                                               k=5, random_state=42, optimal=True)\n",
    "\n",
    "# Conventional Right wrist \n",
    "eval_metrics_fs_conv_dh, _ = optimal_fs_computation(pitch_mad_dh, yaw_mad_dh, GT_mask_50Hz_dh,\n",
    "                                                    k=5, random_state=42, optimal=False)"
   ]
  },
  {
   "cell_type": "code",
   "execution_count": null,
   "id": "e4321160",
   "metadata": {},
   "outputs": [],
   "source": [
    "# Optimal Bilateral \n",
    "eval_metrics_fs_opt_bil = optimal_fs_computation_bilateral(pitch_mad_ndh, yaw_mad_ndh, GT_mask_50Hz_ndh,\n",
    "                                     pitch_mad_dh, yaw_mad_dh, GT_mask_50Hz_dh,\n",
    "                                     optimal_fs_ndh, optimal_fs_dh,k=5, random_state=42, optimal=True)\n",
    "\n",
    "# Conventional Bilateral \n",
    "eval_metrics_fs_conv_bil = optimal_fs_computation_bilateral(pitch_mad_ndh, yaw_mad_ndh, GT_mask_50Hz_ndh,\n",
    "                                     pitch_mad_dh, yaw_mad_dh, GT_mask_50Hz_dh,\n",
    "                                     optimal_fs_ndh, optimal_fs_dh,k=5, random_state=42, optimal=False)"
   ]
  },
  {
   "cell_type": "code",
   "execution_count": null,
   "id": "b24e2000",
   "metadata": {},
   "outputs": [],
   "source": [
    "print(optimal_fs_ndh, optimal_fs_dh)"
   ]
  },
  {
   "cell_type": "code",
   "execution_count": null,
   "id": "67cb2298",
   "metadata": {},
   "outputs": [],
   "source": [
    "eval_metrics_fs_conv_bil"
   ]
  },
  {
   "cell_type": "code",
   "execution_count": null,
   "id": "dc1e8155",
   "metadata": {},
   "outputs": [],
   "source": [
    "plot_radar_chart(eval_metrics_fs_conv_ndh, eval_metrics_fs_opt_ndh, AC = False)"
   ]
  },
  {
   "cell_type": "code",
   "execution_count": null,
   "id": "9383f9be",
   "metadata": {},
   "outputs": [],
   "source": [
    "plot_radar_chart(eval_metrics_fs_conv_dh, eval_metrics_fs_opt_dh, AC = False)"
   ]
  },
  {
   "cell_type": "code",
   "execution_count": null,
   "id": "47c8767a",
   "metadata": {},
   "outputs": [],
   "source": [
    "plot_radar_chart(eval_metrics_fs_conv_bil, eval_metrics_fs_opt_bil, AC = False)"
   ]
  },
  {
   "cell_type": "code",
   "execution_count": null,
   "id": "ba8a4c2a",
   "metadata": {},
   "outputs": [],
   "source": [
    "# Saving data for this participant "
   ]
  },
  {
   "cell_type": "code",
   "execution_count": null,
   "id": "21d87956",
   "metadata": {},
   "outputs": [],
   "source": [
    "# Create a structure to save all the metrics \n",
    "metrics_dictionary = create_metrics_dictionary(eval_metrics_fs_conv_ndh, eval_metrics_fs_conv_dh, eval_metrics_fs_conv_bil, eval_metrics_fs_opt_ndh, eval_metrics_fs_conv_dh, eval_metrics_fs_opt_bil)"
   ]
  },
  {
   "cell_type": "code",
   "execution_count": null,
   "id": "4183e3fe",
   "metadata": {},
   "outputs": [],
   "source": [
    "metrics_dictionary"
   ]
  },
  {
   "cell_type": "code",
   "execution_count": null,
   "id": "fe571646",
   "metadata": {},
   "outputs": [],
   "source": [
    "# Save metrics as csv file: evaluation metrics on unseen data \n",
    "save_metrics_dictionary_as_csv(metrics_dictionary, participant_path, AC = False)\n",
    "# Save optimal AC threhshold for this participant \n",
    "save_optimal_threshold(participant_path, optimal_fs_ndh, optimal_fs_dh, AC = False)"
   ]
  }
 ],
 "metadata": {
  "kernelspec": {
   "display_name": "Python 3 (ipykernel)",
   "language": "python",
   "name": "python3"
  },
  "language_info": {
   "codemirror_mode": {
    "name": "ipython",
    "version": 3
   },
   "file_extension": ".py",
   "mimetype": "text/x-python",
   "name": "python",
   "nbconvert_exporter": "python",
   "pygments_lexer": "ipython3",
   "version": "3.8.13"
  }
 },
 "nbformat": 4,
 "nbformat_minor": 5
}
