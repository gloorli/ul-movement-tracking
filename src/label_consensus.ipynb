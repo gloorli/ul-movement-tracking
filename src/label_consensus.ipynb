{
 "cells": [
  {
   "cell_type": "markdown",
   "metadata": {},
   "source": [
    "# Calculate label consensus among lablers"
   ]
  },
  {
   "cell_type": "code",
   "execution_count": 1,
   "metadata": {},
   "outputs": [
    {
     "name": "stderr",
     "output_type": "stream",
     "text": [
      "/Users/linus/Code/imu_processing/.venv/lib/python3.9/site-packages/urllib3/__init__.py:35: NotOpenSSLWarning: urllib3 v2 only supports OpenSSL 1.1.1+, currently the 'ssl' module is compiled with 'LibreSSL 2.8.3'. See: https://github.com/urllib3/urllib3/issues/3020\n",
      "  warnings.warn(\n"
     ]
    }
   ],
   "source": [
    "from functions.label_consensus import *"
   ]
  },
  {
   "cell_type": "code",
   "execution_count": 2,
   "metadata": {},
   "outputs": [],
   "source": [
    "lables_for_consensus = parse_json()"
   ]
  },
  {
   "cell_type": "code",
   "execution_count": 3,
   "metadata": {},
   "outputs": [],
   "source": [
    "# adjust label when subject left room in S018_LW_10.mp4\n",
    "num_other = 1500 - len(lables_for_consensus[37]['labler_one']['task_per_frame'])\n",
    "other_array = np.array(['other'] * num_other)\n",
    "lables_for_consensus[37]['labler_one']['task_per_frame'] = np.concatenate([\n",
    "    lables_for_consensus[37]['labler_one']['task_per_frame'], other_array\n",
    "])"
   ]
  },
  {
   "cell_type": "code",
   "execution_count": 11,
   "metadata": {},
   "outputs": [
    {
     "name": "stdout",
     "output_type": "stream",
     "text": [
      "functional primitive consensus: 79 %\n",
      "functional | non-functional consensus: 90 %\n",
      "task consensus: 89 %\n"
     ]
    }
   ],
   "source": [
    "functional_primitive_consensus, functional_NF_consensus, task_consensus = calculate_consensus_score(lables_for_consensus)\n",
    "print('functional primitive consensus:', round(np.mean(functional_primitive_consensus) * 100), '%')\n",
    "print('functional | non-functional consensus:', round(np.mean(functional_NF_consensus) * 100), '%')\n",
    "print('task consensus:', round(np.mean(task_consensus) * 100), '%')\n"
   ]
  }
 ],
 "metadata": {
  "kernelspec": {
   "display_name": ".venv",
   "language": "python",
   "name": "python3"
  },
  "language_info": {
   "codemirror_mode": {
    "name": "ipython",
    "version": 3
   },
   "file_extension": ".py",
   "mimetype": "text/x-python",
   "name": "python",
   "nbconvert_exporter": "python",
   "pygments_lexer": "ipython3",
   "version": "3.9.6"
  }
 },
 "nbformat": 4,
 "nbformat_minor": 2
}
