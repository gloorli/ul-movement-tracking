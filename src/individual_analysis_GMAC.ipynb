{
 "cells": [
  {
   "cell_type": "markdown",
   "metadata": {},
   "source": [
    "# Compute optimal individual parameters for GMAC metric"
   ]
  },
  {
   "cell_type": "code",
   "execution_count": null,
   "metadata": {},
   "outputs": [],
   "source": [
    "from zurich_move_data_extraction import *\n",
    "from activity_count_function import *\n",
    "from utilities import *\n",
    "from gm_function import *\n",
    "from individual_analysis_ac_functions import *\n",
    "from extract_mask_from_video import *\n",
    "from individual_analysis_fs_functions import *\n",
    "from group_analysis_functions import *"
   ]
  },
  {
   "cell_type": "code",
   "execution_count": null,
   "metadata": {},
   "outputs": [],
   "source": [
    "#CHANGE VALUES HERE TODO\n",
    "# H for Healthy and S for Stroke \n",
    "participant_id = 'H005'\n",
    "participant_group = 'H'\n",
    "using_Axivity = False"
   ]
  },
  {
   "cell_type": "code",
   "execution_count": null,
   "metadata": {},
   "outputs": [],
   "source": [
    "#PATH# \n",
    "initial_path = '../CreateStudy'\n",
    "participant_path = os.path.join(initial_path, participant_id)\n",
    "print(participant_path)"
   ]
  },
  {
   "cell_type": "code",
   "execution_count": null,
   "metadata": {},
   "outputs": [],
   "source": [
    "# Extract dataset from the participant JSON file \n",
    "participant_data = load_participant_json(participant_id, initial_path)\n",
    "# Get the correct handiness \n",
    "# For stroke, dominant hand = non affected hand \n",
    "dominant_hand = get_dominant_hand(participant_data)"
   ]
  },
  {
   "cell_type": "code",
   "execution_count": null,
   "metadata": {},
   "outputs": [],
   "source": [
    "# Get the data from IMU csv files \n",
    "ndh_data, chest_data, dh_data, GT_mask_25Hz_NDH, GT_mask_25Hz_DH = get_data(participant_path, dominant_hand)\n",
    "# Ensure the array sizes consistency between masks and IMU data\n",
    "print (len(GT_mask_25Hz_NDH)*2, len(ndh_data))"
   ]
  },
  {
   "cell_type": "code",
   "execution_count": null,
   "metadata": {},
   "outputs": [],
   "source": [
    "# Get useful variables\n",
    "sampling_freq = 50\n",
    "acc_ndh = ndh_data[['acc_x', 'acc_y', 'acc_z']]\n",
    "acc_dh = dh_data[['acc_x', 'acc_y', 'acc_z']]\n",
    "gyro_ndh = ndh_data[['gyro_x', 'gyro_y', 'gyro_z']]\n",
    "gyro_dh = dh_data[['gyro_x', 'gyro_y', 'gyro_z']]\n",
    "if not using_Axivity:\n",
    "    mag_ndh = ndh_data[['magneto_x', 'magneto_y', 'magneto_z']]\n",
    "    quat_sensor_ndh = ndh_data[['quat_0', 'quat_1', 'quat_2','quat_3']]\n",
    "    quat_sensor_dh = dh_data[['quat_0', 'quat_1', 'quat_2','quat_3']]\n",
    "frequency_GMAC = 1 # Hz\n",
    "FPS_mask = 25 # Hz\n",
    "frequency_euler_angles = 50 # Hz "
   ]
  },
  {
   "cell_type": "markdown",
   "metadata": {},
   "source": [
    "## compute GMAC Counts"
   ]
  },
  {
   "cell_type": "code",
   "execution_count": null,
   "metadata": {},
   "outputs": [],
   "source": [
    "#Compute Actigraph Activity Count using Brond calculation TODO\n",
    "# raw code here: https://github.com/jbrond/ActigraphCounts/blob/master/R/Python_G_to_sec.py\n",
    "count_brond_ndh, processed_data_ndh = get_counts_brond(ndh_data)\n",
    "count_brond_dh, processed_data_dh = get_counts_brond(dh_data)\n",
    "GMAC_ndh = np.array(count_brond_ndh['AC Brond'])\n",
    "GMAC_dh = np.array(count_brond_dh['AC Brond'])"
   ]
  },
  {
   "cell_type": "markdown",
   "metadata": {},
   "source": [
    "### GT MASK Resampling"
   ]
  },
  {
   "cell_type": "code",
   "execution_count": null,
   "metadata": {},
   "outputs": [],
   "source": [
    "# Replace all WBM (whole-body movements) by NF movements inside the GT mask @ 25 Hz \n",
    "# Could be changed in the future (e.g. remove all WBM movements)\n",
    "GT_mask_NDH_25Hz = replace_wbm_with_nf(GT_mask_25Hz_NDH).ravel()\n",
    "GT_mask_DH_25Hz = replace_wbm_with_nf(GT_mask_25Hz_DH).ravel()"
   ]
  },
  {
   "cell_type": "code",
   "execution_count": null,
   "metadata": {},
   "outputs": [],
   "source": [
    "# Downsample GT masks to be used later on for GMAC (1Hz) computation\n",
    "GT_mask_NDH_1Hz = resample_mask(GT_mask_NDH_25Hz, FPS_mask, frequency_GMAC)\n",
    "GT_mask_DH_1Hz = resample_mask(GT_mask_DH_25Hz, FPS_mask, frequency_GMAC)\n",
    "\n",
    "# Ensure GT Mask @ 1 hZ have same size as the Brond AC values \n",
    "GT_mask_NDH_1Hz, GMAC_ndh = remove_extra_elements(GT_mask_NDH_1Hz, GMAC_ndh)\n",
    "GT_mask_DH_1Hz, GMAC_dh = remove_extra_elements(GT_mask_DH_1Hz, GMAC_dh)"
   ]
  },
  {
   "cell_type": "code",
   "execution_count": null,
   "metadata": {},
   "outputs": [],
   "source": [
    "# Plots to ensure the downsampling was correctly done\n",
    "plot_resampled_arrays(GT_mask_NDH_25Hz, FPS_mask, GT_mask_NDH_1Hz, frequency_GMAC)\n",
    "plot_resampled_arrays(GT_mask_DH_25Hz, FPS_mask, GT_mask_DH_1Hz, frequency_GMAC)"
   ]
  },
  {
   "cell_type": "code",
   "execution_count": null,
   "metadata": {},
   "outputs": [],
   "source": [
    "# Update the participant dataset file with new arrays of usefull data  \n",
    "# Add Brond AC\n",
    "add_attributes_to_participant(participant_data, GMAC_NDH = GMAC_ndh, GMAC_DH = GMAC_dh)\n",
    "# Add mask @ 1 Hz, @ 2 Hz, @ 25 Hz and  @ 50 Hz\n",
    "add_attributes_to_participant(participant_data, GT_mask_NDH_1Hz = GT_mask_NDH_1Hz, GT_mask_DH_1Hz = GT_mask_DH_1Hz, \n",
    "                             GT_mask_NDH_25Hz = GT_mask_NDH_25Hz, GT_mask_DH_25Hz = GT_mask_DH_25Hz)"
   ]
  },
  {
   "cell_type": "code",
   "execution_count": null,
   "metadata": {},
   "outputs": [],
   "source": [
    "# Plot to visualize GMAC and GT superposed\n",
    "plot_superposition(GMAC_ndh, 200*GT_mask_NDH_1Hz)\n",
    "plot_superposition(GMAC_dh, 200*GT_mask_DH_1Hz)"
   ]
  },
  {
   "cell_type": "markdown",
   "metadata": {},
   "source": [
    "## Individual Optimization"
   ]
  },
  {
   "cell_type": "code",
   "execution_count": null,
   "metadata": {},
   "outputs": [],
   "source": [
    "# Perform k-fold cross-validation for the left wrist data\n",
    "# Return average optimal AC threshold and average evaluation metrics on this optimal parameter when tested against GT\n",
    "eval_metrics_opt_ndh, opt_threshold_ndh = k_fold_cross_validation(GMAC_ndh, GT_mask_NDH_1Hz, optimal=True)\n",
    "# Same but for conventional fixed threshold \n",
    "eval_metrics_conv_ndh, conv_threshold_ndh = k_fold_cross_validation(GMAC_ndh, GT_mask_NDH_1Hz, optimal=False)"
   ]
  },
  {
   "cell_type": "code",
   "execution_count": null,
   "metadata": {},
   "outputs": [],
   "source": [
    "# Perform k-fold cross-validation for the right wrist data\n",
    "# Return average optimal AC threshold and average evaluation metrics on this optimal parameter when tested against GT\n",
    "eval_metrics_opt_dh, opt_threshold_dh = k_fold_cross_validation(GMAC_dh, GT_mask_DH_1Hz, optimal=True)\n",
    "# Same but for conventional fixed threshold\n",
    "eval_metrics_conv_dh, conv_threshold_dh = k_fold_cross_validation(GMAC_dh, GT_mask_DH_1Hz, optimal=False)"
   ]
  },
  {
   "cell_type": "code",
   "execution_count": null,
   "metadata": {},
   "outputs": [],
   "source": [
    "# Optimal AC thresholds for this participant \n",
    "print(opt_threshold_ndh, opt_threshold_dh)"
   ]
  },
  {
   "cell_type": "code",
   "execution_count": null,
   "metadata": {},
   "outputs": [],
   "source": [
    "# Create a structure to save all the evaluation metrics \n",
    "metrics_dictionary_GMAC = create_metrics_dictionary(eval_metrics_conv_ndh, eval_metrics_conv_dh,\n",
    "                                               eval_metrics_opt_ndh, eval_metrics_opt_dh)"
   ]
  },
  {
   "cell_type": "code",
   "execution_count": null,
   "metadata": {},
   "outputs": [],
   "source": [
    "metrics_dictionary_GMAC"
   ]
  },
  {
   "cell_type": "code",
   "execution_count": null,
   "metadata": {},
   "outputs": [],
   "source": [
    "# Add metrics for AC threshold evaluation to the JSON file \n",
    "add_attributes_to_participant(participant_data, metrics_dictionary_GMAC = metrics_dictionary_GMAC) \n",
    "# Add optimal AC parameter to the JSON file \n",
    "add_attributes_to_participant(participant_data, optimal_GMAC_NDH = opt_threshold_ndh, optimal_GMAC_DH = opt_threshold_dh) "
   ]
  }
 ],
 "metadata": {
  "language_info": {
   "name": "python"
  }
 },
 "nbformat": 4,
 "nbformat_minor": 2
}
