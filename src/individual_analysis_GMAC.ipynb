{
 "cells": [
  {
   "cell_type": "markdown",
   "metadata": {},
   "source": [
    "# Compute optimal individual parameters for GMAC metric"
   ]
  },
  {
   "cell_type": "code",
   "execution_count": 1,
   "metadata": {},
   "outputs": [
    {
     "name": "stderr",
     "output_type": "stream",
     "text": [
      "/Users/linus/Code/imu_processing/.venv/lib/python3.9/site-packages/urllib3/__init__.py:35: NotOpenSSLWarning: urllib3 v2 only supports OpenSSL 1.1.1+, currently the 'ssl' module is compiled with 'LibreSSL 2.8.3'. See: https://github.com/urllib3/urllib3/issues/3020\n",
      "  warnings.warn(\n"
     ]
    }
   ],
   "source": [
    "from zurich_move_data_extraction import *\n",
    "from activity_count_function import *\n",
    "from utilities import *\n",
    "from gm_function import *\n",
    "from individual_analysis_ac_functions import *\n",
    "from extract_mask_from_video import *\n",
    "from individual_analysis_fs_functions import *\n",
    "from group_analysis_functions import *"
   ]
  },
  {
   "cell_type": "code",
   "execution_count": 2,
   "metadata": {},
   "outputs": [],
   "source": [
    "#CHANGE VALUES HERE TODO\n",
    "# H for Healthy and S for Stroke \n",
    "participant_id = 'Hxx2'\n",
    "participant_group = 'H'\n",
    "using_Axivity = True"
   ]
  },
  {
   "cell_type": "code",
   "execution_count": 3,
   "metadata": {},
   "outputs": [
    {
     "name": "stdout",
     "output_type": "stream",
     "text": [
      "../data/CreateStudy/Hxx2\n"
     ]
    }
   ],
   "source": [
    "#PATH# \n",
    "initial_path = '../data/CreateStudy'#'../CreateStudy'\n",
    "participant_path = os.path.join(initial_path, participant_id)\n",
    "print(participant_path)"
   ]
  },
  {
   "cell_type": "code",
   "execution_count": 4,
   "metadata": {},
   "outputs": [
    {
     "ename": "FileNotFoundError",
     "evalue": "No file found for participant ID: Hxx2 at ../data/CreateStudy/Hxx2/Hxx2.json",
     "output_type": "error",
     "traceback": [
      "\u001b[0;31m---------------------------------------------------------------------------\u001b[0m",
      "\u001b[0;31mFileNotFoundError\u001b[0m                         Traceback (most recent call last)",
      "Cell \u001b[0;32mIn[4], line 2\u001b[0m\n\u001b[1;32m      1\u001b[0m \u001b[38;5;66;03m# Extract dataset from the participant JSON file \u001b[39;00m\n\u001b[0;32m----> 2\u001b[0m participant_data \u001b[38;5;241m=\u001b[39m \u001b[43mload_participant_json\u001b[49m\u001b[43m(\u001b[49m\u001b[43mparticipant_id\u001b[49m\u001b[43m,\u001b[49m\u001b[43m \u001b[49m\u001b[43minitial_path\u001b[49m\u001b[43m)\u001b[49m\n\u001b[1;32m      3\u001b[0m \u001b[38;5;66;03m# Get the correct handiness \u001b[39;00m\n\u001b[1;32m      4\u001b[0m \u001b[38;5;66;03m# For stroke, dominant hand = non affected hand \u001b[39;00m\n\u001b[1;32m      5\u001b[0m dominant_hand \u001b[38;5;241m=\u001b[39m get_dominant_hand(participant_data)\n",
      "File \u001b[0;32m~/Code/imu_processing/src/utilities.py:136\u001b[0m, in \u001b[0;36mload_participant_json\u001b[0;34m(participant_id, initial_path)\u001b[0m\n\u001b[1;32m    133\u001b[0m full_path \u001b[38;5;241m=\u001b[39m os\u001b[38;5;241m.\u001b[39mpath\u001b[38;5;241m.\u001b[39mjoin(folder_path, filename)\n\u001b[1;32m    135\u001b[0m \u001b[38;5;28;01mif\u001b[39;00m \u001b[38;5;129;01mnot\u001b[39;00m os\u001b[38;5;241m.\u001b[39mpath\u001b[38;5;241m.\u001b[39mexists(full_path):\n\u001b[0;32m--> 136\u001b[0m     \u001b[38;5;28;01mraise\u001b[39;00m \u001b[38;5;167;01mFileNotFoundError\u001b[39;00m(\u001b[38;5;124mf\u001b[39m\u001b[38;5;124m\"\u001b[39m\u001b[38;5;124mNo file found for participant ID: \u001b[39m\u001b[38;5;132;01m{\u001b[39;00mparticipant_id\u001b[38;5;132;01m}\u001b[39;00m\u001b[38;5;124m at \u001b[39m\u001b[38;5;132;01m{\u001b[39;00mfull_path\u001b[38;5;132;01m}\u001b[39;00m\u001b[38;5;124m\"\u001b[39m)\n\u001b[1;32m    138\u001b[0m \u001b[38;5;28;01mwith\u001b[39;00m \u001b[38;5;28mopen\u001b[39m(full_path, \u001b[38;5;124m'\u001b[39m\u001b[38;5;124mr\u001b[39m\u001b[38;5;124m'\u001b[39m) \u001b[38;5;28;01mas\u001b[39;00m json_file:\n\u001b[1;32m    139\u001b[0m     data \u001b[38;5;241m=\u001b[39m json\u001b[38;5;241m.\u001b[39mload(json_file)\n",
      "\u001b[0;31mFileNotFoundError\u001b[0m: No file found for participant ID: Hxx2 at ../data/CreateStudy/Hxx2/Hxx2.json"
     ]
    }
   ],
   "source": [
    "# Extract dataset from the participant JSON file \n",
    "participant_data = load_participant_json(participant_id, initial_path)\n",
    "# Get the correct handiness \n",
    "# For stroke, dominant hand = non affected hand \n",
    "dominant_hand = get_dominant_hand(participant_data)"
   ]
  },
  {
   "cell_type": "code",
   "execution_count": null,
   "metadata": {},
   "outputs": [],
   "source": [
    "# Get the data from IMU csv files \n",
    "ndh_data, chest_data, dh_data, GT_mask_25Hz_NDH, GT_mask_25Hz_DH = get_data(participant_path, dominant_hand)\n",
    "# Ensure the array sizes consistency between masks and IMU data\n",
    "print (len(GT_mask_25Hz_NDH)*2, len(ndh_data))"
   ]
  },
  {
   "cell_type": "code",
   "execution_count": null,
   "metadata": {},
   "outputs": [],
   "source": [
    "# Get useful variables\n",
    "sampling_freq = 50\n",
    "acc_ndh = ndh_data[['acc_x', 'acc_y', 'acc_z']]\n",
    "acc_dh = dh_data[['acc_x', 'acc_y', 'acc_z']]\n",
    "gyro_ndh = ndh_data[['gyro_x', 'gyro_y', 'gyro_z']]\n",
    "gyro_dh = dh_data[['gyro_x', 'gyro_y', 'gyro_z']]\n",
    "if not using_Axivity:\n",
    "    mag_ndh = ndh_data[['magneto_x', 'magneto_y', 'magneto_z']]\n",
    "    quat_sensor_ndh = ndh_data[['quat_0', 'quat_1', 'quat_2','quat_3']]\n",
    "    quat_sensor_dh = dh_data[['quat_0', 'quat_1', 'quat_2','quat_3']]\n",
    "frequency_GMAC = 1 # Hz\n",
    "FPS_mask = 25 # Hz\n",
    "frequency_euler_angles = 50 # Hz "
   ]
  },
  {
   "cell_type": "markdown",
   "metadata": {},
   "source": [
    "## compute GMAC Counts"
   ]
  },
  {
   "cell_type": "code",
   "execution_count": null,
   "metadata": {},
   "outputs": [],
   "source": [
    "#Compute Actigraph Activity Count using Brond calculation TODO\n",
    "# raw code here: https://github.com/jbrond/ActigraphCounts/blob/master/R/Python_G_to_sec.py\n",
    "count_brond_ndh, processed_data_ndh = get_counts_brond(ndh_data)\n",
    "count_brond_dh, processed_data_dh = get_counts_brond(dh_data)\n",
    "GMAC_ndh = np.array(count_brond_ndh['AC Brond'])\n",
    "GMAC_dh = np.array(count_brond_dh['AC Brond'])"
   ]
  },
  {
   "cell_type": "markdown",
   "metadata": {},
   "source": [
    "### GT MASK Resampling"
   ]
  },
  {
   "cell_type": "code",
   "execution_count": null,
   "metadata": {},
   "outputs": [],
   "source": [
    "# Replace all WBM (whole-body movements) by NF movements inside the GT mask @ 25 Hz \n",
    "# Could be changed in the future (e.g. remove all WBM movements)\n",
    "GT_mask_NDH_25Hz = replace_wbm_with_nf(GT_mask_25Hz_NDH).ravel()\n",
    "GT_mask_DH_25Hz = replace_wbm_with_nf(GT_mask_25Hz_DH).ravel()"
   ]
  },
  {
   "cell_type": "code",
   "execution_count": null,
   "metadata": {},
   "outputs": [],
   "source": [
    "# Downsample GT masks to be used later on for GMAC (1Hz) computation\n",
    "GT_mask_NDH_1Hz = resample_mask(GT_mask_NDH_25Hz, FPS_mask, frequency_GMAC)\n",
    "GT_mask_DH_1Hz = resample_mask(GT_mask_DH_25Hz, FPS_mask, frequency_GMAC)\n",
    "\n",
    "# Ensure GT Mask @ 1 hZ have same size as the Brond AC values \n",
    "GT_mask_NDH_1Hz, GMAC_ndh = remove_extra_elements(GT_mask_NDH_1Hz, GMAC_ndh)\n",
    "GT_mask_DH_1Hz, GMAC_dh = remove_extra_elements(GT_mask_DH_1Hz, GMAC_dh)"
   ]
  },
  {
   "cell_type": "code",
   "execution_count": null,
   "metadata": {},
   "outputs": [],
   "source": [
    "# Plots to ensure the downsampling was correctly done\n",
    "plot_resampled_arrays(GT_mask_NDH_25Hz, FPS_mask, GT_mask_NDH_1Hz, frequency_GMAC)\n",
    "plot_resampled_arrays(GT_mask_DH_25Hz, FPS_mask, GT_mask_DH_1Hz, frequency_GMAC)"
   ]
  },
  {
   "cell_type": "code",
   "execution_count": null,
   "metadata": {},
   "outputs": [],
   "source": [
    "# Update the participant dataset file with new arrays of usefull data  \n",
    "# Add Brond AC\n",
    "add_attributes_to_participant(participant_data, GMAC_NDH = GMAC_ndh, GMAC_DH = GMAC_dh)\n",
    "# Add mask @ 1 Hz, @ 2 Hz, @ 25 Hz and  @ 50 Hz\n",
    "add_attributes_to_participant(participant_data, GT_mask_NDH_1Hz = GT_mask_NDH_1Hz, GT_mask_DH_1Hz = GT_mask_DH_1Hz, \n",
    "                             GT_mask_NDH_25Hz = GT_mask_NDH_25Hz, GT_mask_DH_25Hz = GT_mask_DH_25Hz)"
   ]
  },
  {
   "cell_type": "code",
   "execution_count": null,
   "metadata": {},
   "outputs": [],
   "source": [
    "# Plot to visualize GMAC and GT superposed\n",
    "plot_superposition(GMAC_ndh, 200*GT_mask_NDH_1Hz)\n",
    "plot_superposition(GMAC_dh, 200*GT_mask_DH_1Hz)"
   ]
  },
  {
   "cell_type": "markdown",
   "metadata": {},
   "source": [
    "## Individual Optimization"
   ]
  },
  {
   "cell_type": "code",
   "execution_count": null,
   "metadata": {},
   "outputs": [],
   "source": [
    "# Perform k-fold cross-validation for the left wrist data\n",
    "# Return average optimal AC threshold and average evaluation metrics on this optimal parameter when tested against GT\n",
    "eval_metrics_opt_ndh, opt_threshold_ndh = k_fold_cross_validation(GMAC_ndh, GT_mask_NDH_1Hz, optimal=True)\n",
    "# Same but for conventional fixed threshold \n",
    "eval_metrics_conv_ndh, conv_threshold_ndh = k_fold_cross_validation(GMAC_ndh, GT_mask_NDH_1Hz, optimal=False)"
   ]
  },
  {
   "cell_type": "code",
   "execution_count": null,
   "metadata": {},
   "outputs": [],
   "source": [
    "# Perform k-fold cross-validation for the right wrist data\n",
    "# Return average optimal AC threshold and average evaluation metrics on this optimal parameter when tested against GT\n",
    "eval_metrics_opt_dh, opt_threshold_dh = k_fold_cross_validation(GMAC_dh, GT_mask_DH_1Hz, optimal=True)\n",
    "# Same but for conventional fixed threshold\n",
    "eval_metrics_conv_dh, conv_threshold_dh = k_fold_cross_validation(GMAC_dh, GT_mask_DH_1Hz, optimal=False)"
   ]
  },
  {
   "cell_type": "code",
   "execution_count": null,
   "metadata": {},
   "outputs": [],
   "source": [
    "# Optimal AC thresholds for this participant \n",
    "print(opt_threshold_ndh, opt_threshold_dh)"
   ]
  },
  {
   "cell_type": "code",
   "execution_count": null,
   "metadata": {},
   "outputs": [],
   "source": [
    "# Create a structure to save all the evaluation metrics \n",
    "metrics_dictionary_GMAC = create_metrics_dictionary(eval_metrics_conv_ndh, eval_metrics_conv_dh,\n",
    "                                               eval_metrics_opt_ndh, eval_metrics_opt_dh)"
   ]
  },
  {
   "cell_type": "code",
   "execution_count": null,
   "metadata": {},
   "outputs": [],
   "source": [
    "metrics_dictionary_GMAC"
   ]
  },
  {
   "cell_type": "code",
   "execution_count": null,
   "metadata": {},
   "outputs": [],
   "source": [
    "# Add metrics for AC threshold evaluation to the JSON file \n",
    "add_attributes_to_participant(participant_data, metrics_dictionary_GMAC = metrics_dictionary_GMAC) \n",
    "# Add optimal AC parameter to the JSON file \n",
    "add_attributes_to_participant(participant_data, optimal_GMAC_NDH = opt_threshold_ndh, optimal_GMAC_DH = opt_threshold_dh) "
   ]
  },
  {
   "cell_type": "code",
   "execution_count": null,
   "metadata": {},
   "outputs": [],
   "source": [
    "# Save the JSON file with the new fields \n",
    "save_to_json(participant_data, participant_path)"
   ]
  },
  {
   "cell_type": "markdown",
   "metadata": {},
   "source": [
    "### Euler angles"
   ]
  },
  {
   "cell_type": "code",
   "execution_count": null,
   "metadata": {},
   "outputs": [],
   "source": [
    "# Get Euler angles usign Madgwick sensor fusiona algorithm \n",
    "# Using only accel. and gyro \n",
    "# MARG use also magnetometer but after testing, it was less precise \n",
    "# Left wrist\n",
    "_, pitch_mad_ndh, _ = compute_euler_angles(acc_ndh, gyro_ndh, sampling_freq)\n",
    "# Right wrist \n",
    "_, pitch_mad_dh, _ = compute_euler_angles(acc_dh, gyro_dh, sampling_freq)"
   ]
  },
  {
   "cell_type": "code",
   "execution_count": null,
   "metadata": {},
   "outputs": [],
   "source": [
    "# Ensure the datasets have the same sizes \n",
    "# For ndh\n",
    "#pitch_mad_ndh, GT_mask_50Hz_ndh = remove_extra_elements(pitch_mad_ndh, GT_mask_NDH_50Hz)\n",
    "# For dh\n",
    "#pitch_mad_dh, GT_mask_50Hz_dh = remove_extra_elements(pitch_mad_dh, GT_mask_DH_50Hz)"
   ]
  },
  {
   "cell_type": "code",
   "execution_count": null,
   "metadata": {},
   "outputs": [],
   "source": [
    "plot_angles_over_time(pitch_mad_dh)"
   ]
  },
  {
   "cell_type": "code",
   "execution_count": null,
   "metadata": {},
   "outputs": [],
   "source": [
    "# Add Euler angles to participant dataset\n",
    "add_attributes_to_participant(participant_data, pitch_NDH=pitch_mad_ndh, pitch_DH=pitch_mad_dh)"
   ]
  },
  {
   "cell_type": "markdown",
   "metadata": {},
   "source": [
    "### Optimal FS (functional space) for the GM algorithm"
   ]
  },
  {
   "cell_type": "code",
   "execution_count": null,
   "metadata": {},
   "outputs": [],
   "source": []
  }
 ],
 "metadata": {
  "kernelspec": {
   "display_name": ".venv",
   "language": "python",
   "name": "python3"
  },
  "language_info": {
   "codemirror_mode": {
    "name": "ipython",
    "version": 3
   },
   "file_extension": ".py",
   "mimetype": "text/x-python",
   "name": "python",
   "nbconvert_exporter": "python",
   "pygments_lexer": "ipython3",
   "version": "3.9.6"
  }
 },
 "nbformat": 4,
 "nbformat_minor": 2
}
