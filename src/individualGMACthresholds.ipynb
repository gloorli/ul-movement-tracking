{
 "cells": [
  {
   "cell_type": "markdown",
   "metadata": {},
   "source": [
    "# Individual GMAC Thresholds"
   ]
  },
  {
   "cell_type": "code",
   "execution_count": 1,
   "metadata": {},
   "outputs": [
    {
     "name": "stderr",
     "output_type": "stream",
     "text": [
      "/Users/linus/Code/imu_processing/.venv/lib/python3.9/site-packages/urllib3/__init__.py:35: NotOpenSSLWarning: urllib3 v2 only supports OpenSSL 1.1.1+, currently the 'ssl' module is compiled with 'LibreSSL 2.8.3'. See: https://github.com/urllib3/urllib3/issues/3020\n",
      "  warnings.warn(\n"
     ]
    }
   ],
   "source": [
    "from functions.individual_analysis_gmac_function import individual_GMAC_thresholds_for_all_participants"
   ]
  },
  {
   "cell_type": "markdown",
   "metadata": {},
   "source": [
    "## for all subjects"
   ]
  },
  {
   "cell_type": "code",
   "execution_count": 2,
   "metadata": {},
   "outputs": [
    {
     "name": "stderr",
     "output_type": "stream",
     "text": [
      "Processing participants:   0%|          | 0/10 [00:00<?, ?it/s]"
     ]
    },
    {
     "name": "stdout",
     "output_type": "stream",
     "text": [
      "Arrays already had same shape.\n",
      "Optimal Count Threshold: 5.00\n",
      "Optimal Pitch Threshold: 64.00\n",
      "Arrays already had same shape.\n",
      "Optimal Count Threshold: 3.00\n",
      "Optimal Pitch Threshold: 54.00\n"
     ]
    },
    {
     "name": "stderr",
     "output_type": "stream",
     "text": [
      "Processing participants:  10%|█         | 1/10 [00:10<01:37, 10.82s/it]"
     ]
    },
    {
     "name": "stdout",
     "output_type": "stream",
     "text": [
      "Data saved to: ../data/CreateStudy/S001/S001.json\n",
      "Arrays already had same shape.\n",
      "Optimal Count Threshold: 1.00\n",
      "Optimal Pitch Threshold: 37.00\n",
      "Arrays already had same shape.\n"
     ]
    },
    {
     "name": "stderr",
     "output_type": "stream",
     "text": [
      "Processing participants:  20%|██        | 2/10 [00:19<01:18,  9.85s/it]"
     ]
    },
    {
     "name": "stdout",
     "output_type": "stream",
     "text": [
      "Optimal Count Threshold: 6.00\n",
      "Optimal Pitch Threshold: 50.00\n",
      "Data saved to: ../data/CreateStudy/S008/S008.json\n",
      "Arrays already had same shape.\n",
      "Optimal Count Threshold: 0.00\n",
      "Optimal Pitch Threshold: 45.00\n",
      "Arrays already had same shape.\n"
     ]
    },
    {
     "name": "stderr",
     "output_type": "stream",
     "text": [
      "Processing participants:  30%|███       | 3/10 [00:29<01:06,  9.52s/it]"
     ]
    },
    {
     "name": "stdout",
     "output_type": "stream",
     "text": [
      "Optimal Count Threshold: 0.00\n",
      "Optimal Pitch Threshold: 42.00\n",
      "Data saved to: ../data/CreateStudy/S009/S009.json\n",
      "Arrays already had same shape.\n",
      "Optimal Count Threshold: 0.00\n",
      "Optimal Pitch Threshold: 53.00\n",
      "Arrays already had same shape.\n"
     ]
    },
    {
     "name": "stderr",
     "output_type": "stream",
     "text": [
      "Processing participants:  40%|████      | 4/10 [00:38<00:56,  9.39s/it]"
     ]
    },
    {
     "name": "stdout",
     "output_type": "stream",
     "text": [
      "Optimal Count Threshold: 0.00\n",
      "Optimal Pitch Threshold: 48.00\n",
      "Data saved to: ../data/CreateStudy/S012/S012.json\n",
      "Arrays already had same shape.\n",
      "Optimal Count Threshold: 0.00\n",
      "Optimal Pitch Threshold: 51.00\n",
      "Arrays already had same shape.\n"
     ]
    },
    {
     "name": "stderr",
     "output_type": "stream",
     "text": [
      "Processing participants:  50%|█████     | 5/10 [00:47<00:47,  9.42s/it]"
     ]
    },
    {
     "name": "stdout",
     "output_type": "stream",
     "text": [
      "Optimal Count Threshold: 0.00\n",
      "Optimal Pitch Threshold: 58.00\n",
      "Data saved to: ../data/CreateStudy/S014/S014.json\n",
      "Arrays already had same shape.\n",
      "Optimal Count Threshold: 7.00\n",
      "Optimal Pitch Threshold: 30.00\n",
      "Arrays already had same shape.\n"
     ]
    },
    {
     "name": "stderr",
     "output_type": "stream",
     "text": [
      "Processing participants:  60%|██████    | 6/10 [00:56<00:36,  9.19s/it]"
     ]
    },
    {
     "name": "stdout",
     "output_type": "stream",
     "text": [
      "Optimal Count Threshold: 6.00\n",
      "Optimal Pitch Threshold: 67.00\n",
      "Data saved to: ../data/CreateStudy/S015/S015.json\n",
      "Arrays already had same shape.\n",
      "Optimal Count Threshold: 2.00\n",
      "Optimal Pitch Threshold: 36.00\n",
      "Arrays already had same shape.\n"
     ]
    },
    {
     "name": "stderr",
     "output_type": "stream",
     "text": [
      "Processing participants:  70%|███████   | 7/10 [01:06<00:28,  9.53s/it]"
     ]
    },
    {
     "name": "stdout",
     "output_type": "stream",
     "text": [
      "Optimal Count Threshold: 11.00\n",
      "Optimal Pitch Threshold: 57.00\n",
      "Data saved to: ../data/CreateStudy/S016/S016.json\n",
      "Arrays already had same shape.\n",
      "Optimal Count Threshold: 1.00\n",
      "Optimal Pitch Threshold: 36.00\n",
      "Arrays already had same shape.\n",
      "Optimal Count Threshold: 9.00\n",
      "Optimal Pitch Threshold: 64.00\n"
     ]
    },
    {
     "name": "stderr",
     "output_type": "stream",
     "text": [
      "Processing participants:  80%|████████  | 8/10 [01:14<00:17,  8.94s/it]"
     ]
    },
    {
     "name": "stdout",
     "output_type": "stream",
     "text": [
      "Data saved to: ../data/CreateStudy/S018/S018.json\n",
      "Arrays already had same shape.\n",
      "Optimal Count Threshold: 0.00\n",
      "Optimal Pitch Threshold: 38.00\n",
      "Arrays already had same shape.\n"
     ]
    },
    {
     "name": "stderr",
     "output_type": "stream",
     "text": [
      "Processing participants:  90%|█████████ | 9/10 [01:22<00:08,  8.80s/it]"
     ]
    },
    {
     "name": "stdout",
     "output_type": "stream",
     "text": [
      "Optimal Count Threshold: 15.00\n",
      "Optimal Pitch Threshold: 58.00\n",
      "Data saved to: ../data/CreateStudy/S019/S019.json\n",
      "Arrays already had same shape.\n",
      "Optimal Count Threshold: 1.00\n",
      "Optimal Pitch Threshold: 39.00\n",
      "Arrays already had same shape.\n"
     ]
    },
    {
     "name": "stderr",
     "output_type": "stream",
     "text": [
      "Processing participants: 100%|██████████| 10/10 [01:33<00:00,  9.37s/it]"
     ]
    },
    {
     "name": "stdout",
     "output_type": "stream",
     "text": [
      "Optimal Count Threshold: 3.00\n",
      "Optimal Pitch Threshold: 64.00\n",
      "Data saved to: ../data/CreateStudy/S020/S020.json\n",
      "Individual GMAC threshold analysis completed.\n"
     ]
    },
    {
     "name": "stderr",
     "output_type": "stream",
     "text": [
      "\n"
     ]
    }
   ],
   "source": [
    "participant_ids = ['S001', 'S008', 'S009', 'S012', 'S014', 'S015', 'S016', 'S018', 'S019', 'S020']\n",
    "individual_GMAC_thresholds_for_all_participants(participant_ids)"
   ]
  }
 ],
 "metadata": {
  "kernelspec": {
   "display_name": ".venv",
   "language": "python",
   "name": "python3"
  },
  "language_info": {
   "codemirror_mode": {
    "name": "ipython",
    "version": 3
   },
   "file_extension": ".py",
   "mimetype": "text/x-python",
   "name": "python",
   "nbconvert_exporter": "python",
   "pygments_lexer": "ipython3",
   "version": "3.9.6"
  }
 },
 "nbformat": 4,
 "nbformat_minor": 2
}
