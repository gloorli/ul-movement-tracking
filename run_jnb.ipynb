{
 "cells": [
  {
   "cell_type": "code",
   "execution_count": 6,
   "id": "8bd91036",
   "metadata": {},
   "outputs": [],
   "source": [
    "import subprocess\n",
    "from tqdm import tqdm \n",
    "import os\n",
    "from utilities import *"
   ]
  },
  {
   "cell_type": "code",
   "execution_count": 7,
   "id": "68af7f96",
   "metadata": {},
   "outputs": [],
   "source": [
    "#PATH \n",
    "screening_data = '../CreateStudy/screening_data.csv'\n",
    "initial_path = '../CreateStudy'"
   ]
  },
  {
   "cell_type": "code",
   "execution_count": 8,
   "id": "15a1b75a",
   "metadata": {},
   "outputs": [],
   "source": [
    "#CHANGE VALUE HERE#\n",
    "# H for Healthy and S for Stroke \n",
    "group = 'H'\n",
    "# Copy of NB I want to run \n",
    "notebook_to_run = ['individual_analysis_ac.ipynb', 'individual_analysis_gm.ipynb']"
   ]
  },
  {
   "cell_type": "code",
   "execution_count": 9,
   "id": "b366a220",
   "metadata": {},
   "outputs": [],
   "source": [
    "# Extract data from the screening data\n",
    "screening_data = extract_data_screening_participant(screening_data)"
   ]
  },
  {
   "cell_type": "code",
   "execution_count": 10,
   "id": "df860f1d",
   "metadata": {},
   "outputs": [
    {
     "name": "stderr",
     "output_type": "stream",
     "text": [
      "Processing Participants for individual_analysis_ac.ipynb: 100%|██████████| 13/13 [12:05<00:00, 55.81s/it, Participant=H013]\n",
      "Processing Participants for individual_analysis_gm.ipynb: 100%|██████████| 13/13 [12:01<00:00, 55.48s/it, Participant=H013]\n"
     ]
    }
   ],
   "source": [
    "run_notebooks_for_group(notebook_to_run, screening_data, group)"
   ]
  },
  {
   "cell_type": "code",
   "execution_count": null,
   "id": "9b987ae0",
   "metadata": {},
   "outputs": [],
   "source": []
  }
 ],
 "metadata": {
  "kernelspec": {
   "display_name": "Python 3 (ipykernel)",
   "language": "python",
   "name": "python3"
  },
  "language_info": {
   "codemirror_mode": {
    "name": "ipython",
    "version": 3
   },
   "file_extension": ".py",
   "mimetype": "text/x-python",
   "name": "python",
   "nbconvert_exporter": "python",
   "pygments_lexer": "ipython3",
   "version": "3.8.13"
  }
 },
 "nbformat": 4,
 "nbformat_minor": 5
}
