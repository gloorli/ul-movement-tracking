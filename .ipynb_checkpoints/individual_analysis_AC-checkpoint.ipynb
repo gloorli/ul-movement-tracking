{
 "cells": [
  {
   "cell_type": "code",
   "execution_count": null,
   "id": "80231013",
   "metadata": {},
   "outputs": [],
   "source": [
    "from zurich_move_data_extraction import *\n",
    "from activity_count_function import *\n",
    "from utilities import *\n",
    "from gm_function import *\n",
    "from individual_analysis_ac_functions import *\n",
    "from extract_mask_from_video import *\n",
    "from group_analysis_ac_functions import plot_radar_chart\n",
    "from individual_analysis_fs_functions import *"
   ]
  },
  {
   "cell_type": "code",
   "execution_count": null,
   "id": "b9b598fe",
   "metadata": {},
   "outputs": [],
   "source": [
    "#PATH \n",
    "\n",
    "initial_path = '../CreateStudy'\n",
    "\n",
    "# Change this value\n",
    "participant_id = 'H001'\n",
    "\n",
    "# Join the initial_path and participant_id\n",
    "participant_path = os.path.join(initial_path, participant_id)\n",
    "print(participant_path)"
   ]
  },
  {
   "cell_type": "code",
   "execution_count": null,
   "id": "2492f15c",
   "metadata": {},
   "outputs": [],
   "source": [
    "# Get the data from csv files \n",
    "LW_data, chest_data, RW_data, GT_mask_LW, GT_mask_RW = get_data(participant_path)\n",
    "# Ensure the array sizes consistency between masks and IMU data\n",
    "print (len(GT_mask_LW)*2, len(LW_data))"
   ]
  },
  {
   "cell_type": "code",
   "execution_count": null,
   "id": "1470a8ab",
   "metadata": {},
   "outputs": [],
   "source": [
    "# Get the data from csv files \n",
    "LW_data, chest_data, RW_data, GT_mask_LW, GT_mask_RW = get_data(participant_path)\n",
    "# Ensure the array sizes consistency between masks and IMU data\n",
    "print (len(GT_mask_LW)*2, len(LW_data))"
   ]
  },
  {
   "cell_type": "code",
   "execution_count": null,
   "id": "202e581e",
   "metadata": {},
   "outputs": [],
   "source": [
    "#Compute Actigraph Activity Count \n",
    "count_brond_LW, processed_data_LW = get_counts_brond(LW_data)\n",
    "count_brond_RW, processed_data_RW = get_counts_brond(RW_data)\n",
    "#count_neish_LW = get_counts_neishabouri(acc_LW)\n",
    "#count_neish_RW = get_counts_neishabouri(acc_RW)\n",
    "AC_LW = np.array(count_brond_LW['AC Brond'])\n",
    "AC_RW = np.array(count_brond_RW['AC Brond'])\n",
    "\n",
    "# Save the AC values\n",
    "save_AC_as_csv(count_brond_LW, count_brond_RW, participant_path)"
   ]
  },
  {
   "cell_type": "code",
   "execution_count": null,
   "id": "56ac1bf6",
   "metadata": {},
   "outputs": [],
   "source": [
    "plot_actigraph_count(count_brond_LW), plot_actigraph_count(count_brond_RW)\n",
    "plot_raw_data(acc_LW, sampling_freq)\n",
    "plot_raw_data(processed_data_LW, sampling_freq)"
   ]
  },
  {
   "cell_type": "code",
   "execution_count": null,
   "id": "666bbf11",
   "metadata": {},
   "outputs": [],
   "source": [
    "# MASK #"
   ]
  },
  {
   "cell_type": "code",
   "execution_count": null,
   "id": "c4ced883",
   "metadata": {},
   "outputs": [],
   "source": [
    "GT_mask_LW_1Hz = downsample_mask_interpolation(GT_mask_LW, FPS_mask, frequency_AC)\n",
    "GT_mask_RW_1Hz = downsample_mask_interpolation(GT_mask_RW, FPS_mask, frequency_AC)\n",
    "GT_mask_LW_2Hz = downsample_mask_interpolation(GT_mask_LW, FPS_mask, frequency_GM)\n",
    "GT_mask_RW_2Hz = downsample_mask_interpolation(GT_mask_RW, FPS_mask, frequency_GM)"
   ]
  },
  {
   "cell_type": "code",
   "execution_count": null,
   "id": "c1257b1e",
   "metadata": {},
   "outputs": [],
   "source": [
    "get_statistics(GT_mask_LW), get_statistics(GT_mask_LW_1Hz)"
   ]
  },
  {
   "cell_type": "code",
   "execution_count": null,
   "id": "583762a8",
   "metadata": {},
   "outputs": [],
   "source": [
    "# MASK with WBM replaced by NF #"
   ]
  },
  {
   "cell_type": "code",
   "execution_count": null,
   "id": "bfb3cf95",
   "metadata": {},
   "outputs": [],
   "source": [
    "# Create masks with WBM converted into NF movement\n",
    "\n",
    "# Replace WBM mask by NF masks @ 25Hz \n",
    "GT_mask_LW_wbm_into_nf = replace_wbm_with_nf(GT_mask_LW).ravel()\n",
    "GT_mask_RW_wbm_into_nf = replace_wbm_with_nf(GT_mask_RW).ravel()\n",
    "\n",
    "# Replace WBM mask by NF masks @ 2Hz \n",
    "GT_mask_LW_2Hz_wbm_into_nf = replace_wbm_with_nf(GT_mask_LW_2Hz)\n",
    "GT_mask_RW_2Hz_wbm_into_nf = replace_wbm_with_nf(GT_mask_RW_2Hz)\n",
    "\n",
    "# Replace WBM mask by NF masks @ 1Hz \n",
    "GT_mask_LW_1Hz_wbm_into_nf = replace_wbm_with_nf(GT_mask_LW_1Hz)\n",
    "GT_mask_RW_1Hz_wbm_into_nf = replace_wbm_with_nf(GT_mask_RW_1Hz)\n",
    "\n",
    "# Trim dataset to ensure same size \n",
    "GT_mask_LW_1Hz_wbm_into_nf, AC_LW = remove_extra_elements(GT_mask_LW_1Hz_wbm_into_nf, AC_LW)\n",
    "GT_mask_RW_1Hz_wbm_into_nf, AC_RW = remove_extra_elements(GT_mask_RW_1Hz_wbm_into_nf, AC_RW)"
   ]
  },
  {
   "cell_type": "code",
   "execution_count": null,
   "id": "af785c8b",
   "metadata": {},
   "outputs": [],
   "source": [
    "# Ensure the downsampling conserve the tendency \n",
    "get_statistics(GT_mask_LW_wbm_into_nf), get_statistics(GT_mask_LW_1Hz_wbm_into_nf)\n",
    "plot_movement_tendency(GT_mask_LW_wbm_into_nf), plot_movement_tendency(GT_mask_LW_1Hz_wbm_into_nf), plot_movement_tendency(GT_mask_LW_2Hz_wbm_into_nf)"
   ]
  },
  {
   "cell_type": "code",
   "execution_count": null,
   "id": "79467250",
   "metadata": {},
   "outputs": [],
   "source": [
    "# MASK with WBM removed #"
   ]
  },
  {
   "cell_type": "code",
   "execution_count": null,
   "id": "1cdfdc2d",
   "metadata": {},
   "outputs": [],
   "source": [
    "# # Create the dataset without WBM ie removed from the analysis \n",
    "GT_mask_LW_1Hz_no_wbm, count_brond_LW_no_wbm = remove_wbm_data(GT_mask_LW_1Hz, AC_LW)\n",
    "GT_mask_RW_1Hz_no_wbm, count_brond_RW_no_wbm = remove_wbm_data(GT_mask_RW_1Hz, AC_RW)"
   ]
  },
  {
   "cell_type": "code",
   "execution_count": null,
   "id": "8f38d895",
   "metadata": {},
   "outputs": [],
   "source": [
    "# Compare masks and AC #"
   ]
  },
  {
   "cell_type": "code",
   "execution_count": null,
   "id": "eec6b4ca",
   "metadata": {},
   "outputs": [],
   "source": [
    "# Original maks with the WBM label\n",
    "plot_ac_tendency(GT_mask_LW_1Hz, AC_LW)\n",
    "# Option1: WBM into NF \n",
    "plot_ac_tendency(GT_mask_LW_1Hz_wbm_into_nf, AC_LW)\n",
    "# Option2: WBM data removed completely \n",
    "plot_ac_tendency(GT_mask_LW_1Hz_no_wbm, count_brond_LW_no_wbm)"
   ]
  },
  {
   "cell_type": "code",
   "execution_count": null,
   "id": "a9230aef",
   "metadata": {},
   "outputs": [],
   "source": [
    "# Splitting the data for the left wrist\n",
    "X_LW = AC_LW\n",
    "y_LW = GT_mask_LW_1Hz_wbm_into_nf\n",
    "\n",
    "# Perform k-fold cross-validation for the left wrist data\n",
    "# Optimal: Return average optimal AC threshold and average evaluation metrics \n",
    "eval_metrics_opt_LW, opt_threshold_LW = k_fold_cross_validation(X_LW, y_LW, optimal=True)\n",
    "\n",
    "# Conventional: Return conventional AC threshold and average evaluation metrics \n",
    "eval_metrics_conv_LW, conv_threshold_LW = k_fold_cross_validation(X_LW, y_LW, optimal=False)"
   ]
  },
  {
   "cell_type": "code",
   "execution_count": null,
   "id": "7d7ab95d",
   "metadata": {},
   "outputs": [],
   "source": [
    "# Splitting the data for the right wrist\n",
    "X_RW = AC_RW\n",
    "y_RW = GT_mask_LW_1Hz_wbm_into_nf\n",
    "\n",
    "# Perform k-fold cross-validation for the right wrist data\n",
    "# Optimal: Return average optimal AC threshold and average evaluation metrics \n",
    "eval_metrics_opt_RW, opt_threshold_RW = k_fold_cross_validation(X_RW, y_RW, optimal=True)\n",
    "\n",
    "# Conventional: Return conventional AC threshold and average evaluation metrics \n",
    "eval_metrics_conv_RW, conv_threshold_RW = k_fold_cross_validation(X_RW, y_RW, optimal=False)"
   ]
  },
  {
   "cell_type": "code",
   "execution_count": null,
   "id": "004a2645",
   "metadata": {},
   "outputs": [],
   "source": [
    "print(opt_threshold_LW, opt_threshold_RW)"
   ]
  },
  {
   "cell_type": "code",
   "execution_count": null,
   "id": "840778a5",
   "metadata": {},
   "outputs": [],
   "source": [
    "# Bilaterage usage of the UL\n",
    "eval_metrics_opt_bil = k_fold_cross_validation_bilateral(X_LW, X_RW, y_LW, y_RW, opt_threshold_LW,\n",
    "                                                         opt_threshold_RW, optimal=True)\n",
    "eval_metrics_conv_bil = k_fold_cross_validation_bilateral(X_LW, X_RW, y_LW, y_RW, opt_threshold_LW,\n",
    "                                                          opt_threshold_RW, optimal=False)"
   ]
  },
  {
   "cell_type": "code",
   "execution_count": null,
   "id": "7a5e4fc4",
   "metadata": {},
   "outputs": [],
   "source": [
    "eval_metrics_conv_LW, eval_metrics_opt_LW"
   ]
  },
  {
   "cell_type": "code",
   "execution_count": null,
   "id": "65fe9f54",
   "metadata": {},
   "outputs": [],
   "source": [
    "plot_radar_chart(eval_metrics_conv_LW, eval_metrics_opt_LW)\n",
    "plot_radar_chart(eval_metrics_conv_RW, eval_metrics_opt_RW)\n",
    "plot_radar_chart(eval_metrics_conv_bil, eval_metrics_opt_bil)"
   ]
  },
  {
   "cell_type": "code",
   "execution_count": null,
   "id": "c06a0091",
   "metadata": {},
   "outputs": [],
   "source": [
    "# Create a structure to save all the metrics \n",
    "metrics_dictionary = create_metrics_dictionary(eval_metrics_conv_LW, eval_metrics_conv_RW,\n",
    "                                               eval_metrics_conv_bil, eval_metrics_opt_LW,\n",
    "                                               eval_metrics_opt_RW, eval_metrics_opt_bil)"
   ]
  },
  {
   "cell_type": "code",
   "execution_count": null,
   "id": "3f4624c6",
   "metadata": {},
   "outputs": [],
   "source": []
  },
  {
   "cell_type": "code",
   "execution_count": null,
   "id": "b5573832",
   "metadata": {},
   "outputs": [],
   "source": []
  },
  {
   "cell_type": "code",
   "execution_count": null,
   "id": "2ce6f2f0",
   "metadata": {},
   "outputs": [],
   "source": []
  },
  {
   "cell_type": "code",
   "execution_count": null,
   "id": "de4e59e3",
   "metadata": {},
   "outputs": [],
   "source": []
  }
 ],
 "metadata": {
  "kernelspec": {
   "display_name": "Python 3 (ipykernel)",
   "language": "python",
   "name": "python3"
  },
  "language_info": {
   "codemirror_mode": {
    "name": "ipython",
    "version": 3
   },
   "file_extension": ".py",
   "mimetype": "text/x-python",
   "name": "python",
   "nbconvert_exporter": "python",
   "pygments_lexer": "ipython3",
   "version": "3.8.13"
  }
 },
 "nbformat": 4,
 "nbformat_minor": 5
}
