{
 "cells": [
  {
   "cell_type": "code",
   "execution_count": 1,
   "id": "8bd91036",
   "metadata": {},
   "outputs": [
    {
     "name": "stderr",
     "output_type": "stream",
     "text": [
      "C:\\Users\\Pierre-Louis\\anaconda3\\lib\\site-packages\\numpy\\_distributor_init.py:30: UserWarning: loaded more than 1 DLL from .libs:\n",
      "C:\\Users\\Pierre-Louis\\anaconda3\\lib\\site-packages\\numpy\\.libs\\libopenblas.QVLO2T66WEPI7JZ63PS3HMOHFEY472BC.gfortran-win_amd64.dll\n",
      "C:\\Users\\Pierre-Louis\\anaconda3\\lib\\site-packages\\numpy\\.libs\\libopenblas.XWYDX2IKJW2NMTWSFYNGFUWKQU3LYTCZ.gfortran-win_amd64.dll\n",
      "  warnings.warn(\"loaded more than 1 DLL from .libs:\"\n"
     ]
    }
   ],
   "source": [
    "import subprocess\n",
    "from tqdm import tqdm \n",
    "import os\n",
    "from utilities import *"
   ]
  },
  {
   "cell_type": "code",
   "execution_count": 2,
   "id": "68af7f96",
   "metadata": {},
   "outputs": [],
   "source": [
    "#PATH \n",
    "screening_data = '../CreateStudy/screening_data.csv'\n",
    "initial_path = '../CreateStudy'"
   ]
  },
  {
   "cell_type": "code",
   "execution_count": 3,
   "id": "15a1b75a",
   "metadata": {},
   "outputs": [],
   "source": [
    "#CHANGE VALUE HERE#\n",
    "# H for Healthy and S for Stroke \n",
    "group = 'H'\n",
    "# Copy of NB I want to run \n",
    "notebook_to_run = ['individual_analysis_ac.ipynb', 'individual_analysis_gm.ipynb']"
   ]
  },
  {
   "cell_type": "code",
   "execution_count": 4,
   "id": "b366a220",
   "metadata": {},
   "outputs": [],
   "source": [
    "# Extract data from the screening data\n",
    "screening_data = extract_data_screening_participant(screening_data)"
   ]
  },
  {
   "cell_type": "code",
   "execution_count": 5,
   "id": "df860f1d",
   "metadata": {},
   "outputs": [
    {
     "name": "stderr",
     "output_type": "stream",
     "text": [
      "Processing Participants for individual_analysis_ac.ipynb: 100%|██████████| 3/3 [03:44<00:00, 74.68s/it, Participant=S004]\n",
      "Processing Participants for individual_analysis_gm.ipynb: 100%|██████████| 3/3 [04:58<00:00, 99.66s/it, Participant=S004]\n"
     ]
    }
   ],
   "source": [
    "run_notebooks_for_group(notebook_to_run, screening_data, group)"
   ]
  },
  {
   "cell_type": "code",
   "execution_count": null,
   "id": "9b987ae0",
   "metadata": {},
   "outputs": [],
   "source": []
  }
 ],
 "metadata": {
  "kernelspec": {
   "display_name": "Python 3 (ipykernel)",
   "language": "python",
   "name": "python3"
  },
  "language_info": {
   "codemirror_mode": {
    "name": "ipython",
    "version": 3
   },
   "file_extension": ".py",
   "mimetype": "text/x-python",
   "name": "python",
   "nbconvert_exporter": "python",
   "pygments_lexer": "ipython3",
   "version": "3.8.13"
  }
 },
 "nbformat": 4,
 "nbformat_minor": 5
}
