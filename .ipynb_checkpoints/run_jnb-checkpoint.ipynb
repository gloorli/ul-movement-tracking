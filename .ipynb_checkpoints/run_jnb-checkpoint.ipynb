{
 "cells": [
  {
   "cell_type": "code",
   "execution_count": 31,
   "id": "8bd91036",
   "metadata": {},
   "outputs": [],
   "source": [
    "import subprocess\n",
    "from tqdm import tqdm  # Import the tqdm library\n",
    "import os\n",
    "from utilities import *\n",
    "import re"
   ]
  },
  {
   "cell_type": "code",
   "execution_count": 32,
   "id": "68af7f96",
   "metadata": {},
   "outputs": [],
   "source": [
    "#PATH \n",
    "screening_data = '../CreateStudy/screening_data.csv'\n",
    "initial_path = '../CreateStudy'"
   ]
  },
  {
   "cell_type": "code",
   "execution_count": 33,
   "id": "15a1b75a",
   "metadata": {},
   "outputs": [],
   "source": [
    "#CHANGE VALUE HERE#\n",
    "# H for Healthy and S for Stroke \n",
    "group = 'H'\n",
    "# Copy of NB I want to run \n",
    "notebook_to_run = ['individual_analysis_gm.ipynb']"
   ]
  },
  {
   "cell_type": "code",
   "execution_count": 34,
   "id": "b366a220",
   "metadata": {},
   "outputs": [],
   "source": [
    "# Extract data from the screening data\n",
    "screening_data = extract_data_screening_participant(screening_data)"
   ]
  },
  {
   "cell_type": "code",
   "execution_count": 38,
   "id": "df860f1d",
   "metadata": {},
   "outputs": [
    {
     "name": "stderr",
     "output_type": "stream",
     "text": [
      "Processing Participants for individual_analysis_gm.ipynb: 100%|██████████| 13/13 [13:03<00:00, 60.26s/it, Participant=H013]\n"
     ]
    }
   ],
   "source": [
    "run_notebooks_for_group(notebook_to_run, screening_data, group)"
   ]
  }
 ],
 "metadata": {
  "kernelspec": {
   "display_name": "Python 3 (ipykernel)",
   "language": "python",
   "name": "python3"
  },
  "language_info": {
   "codemirror_mode": {
    "name": "ipython",
    "version": 3
   },
   "file_extension": ".py",
   "mimetype": "text/x-python",
   "name": "python",
   "nbconvert_exporter": "python",
   "pygments_lexer": "ipython3",
   "version": "3.8.13"
  }
 },
 "nbformat": 4,
 "nbformat_minor": 5
}
