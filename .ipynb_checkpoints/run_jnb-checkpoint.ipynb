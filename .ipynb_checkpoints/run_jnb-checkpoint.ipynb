{
 "cells": [
  {
   "cell_type": "code",
   "execution_count": 8,
   "id": "8bd91036",
   "metadata": {},
   "outputs": [],
   "source": [
    "import subprocess\n",
    "from tqdm import tqdm  # Import the tqdm library\n",
    "import os"
   ]
  },
  {
   "cell_type": "code",
   "execution_count": 9,
   "id": "0033a1e2",
   "metadata": {},
   "outputs": [],
   "source": [
    "def get_folders_with_prefix(path):\n",
    "    folder_names = [name for name in os.listdir(path) if os.path.isdir(os.path.join(path, name))]\n",
    "    h_folders = [name for name in folder_names if name.startswith('H') and len(name) == 4 and name[1:].isdigit()]\n",
    "    return h_folders"
   ]
  },
  {
   "cell_type": "code",
   "execution_count": 14,
   "id": "68af7f96",
   "metadata": {},
   "outputs": [],
   "source": [
    "# PATH \n",
    "\n",
    "initial_path = '../CreateStudy'\n",
    "\n",
    "# List of participant IDs\n",
    "participant_ids = get_folders_with_prefix(initial_path)\n",
    "\n",
    "# Replace with the placeholder for participant_id in the notebook we want to run \n",
    "participant_id_placeholder = 'HXXX'"
   ]
  },
  {
   "cell_type": "code",
   "execution_count": 15,
   "id": "6cb7f4c2",
   "metadata": {},
   "outputs": [
    {
     "name": "stdout",
     "output_type": "stream",
     "text": [
      "['H001', 'H002', 'H003', 'H004', 'H005', 'H006', 'H007', 'H008', 'H009', 'H010', 'H011', 'H012']\n"
     ]
    }
   ],
   "source": [
    "print(participant_ids)"
   ]
  },
  {
   "cell_type": "code",
   "execution_count": 16,
   "id": "c620f95f",
   "metadata": {},
   "outputs": [],
   "source": [
    "# Copy of NB I want to run \n",
    "notebook_to_run = 'individual_analysis_gm.ipynb'"
   ]
  },
  {
   "cell_type": "code",
   "execution_count": 17,
   "id": "b4cbe8b1",
   "metadata": {},
   "outputs": [],
   "source": [
    "def run_notebook_with_progress(participant_ids, notebook_path, participant_id_placeholder):\n",
    "    # Create a tqdm progress bar for participants\n",
    "    progress_bar = tqdm(participant_ids, desc='Processing Participants', leave=True)\n",
    "\n",
    "    # Read the initial notebook content into a variable to make a copy, not touching the original notebook file\n",
    "    with open(notebook_path, 'r', encoding='utf-8') as f:\n",
    "        initial_notebook_content = f.read()\n",
    "\n",
    "    # Iterate over the list of participant IDs\n",
    "    for participant_id in progress_bar:\n",
    "        # Set the participant_id parameter in the notebook content\n",
    "        notebook_content = initial_notebook_content.replace(participant_id_placeholder, participant_id)\n",
    "\n",
    "        # Create a temporary copy of the notebook for this participant\n",
    "        temp_notebook_path = f'temp_{participant_id}.ipynb'\n",
    "        with open(temp_notebook_path, 'wt', encoding='utf-8') as f:\n",
    "            f.write(notebook_content)\n",
    "\n",
    "        # Use subprocess to run the notebook\n",
    "        subprocess.run(['jupyter', 'nbconvert', '--to', 'notebook', '--execute', '--inplace', temp_notebook_path])\n",
    "\n",
    "        # Update the progress bar\n",
    "        progress_bar.set_postfix({'Participant': participant_id})\n",
    "        progress_bar.update(1)  # Move the progress bar one step forward\n",
    "\n",
    "        # Remove the temporary copy of the notebook after execution\n",
    "        os.remove(temp_notebook_path)\n",
    "\n",
    "    # Close the progress bar\n",
    "    progress_bar.close()"
   ]
  },
  {
   "cell_type": "code",
   "execution_count": 18,
   "id": "cc24242e",
   "metadata": {},
   "outputs": [
    {
     "name": "stderr",
     "output_type": "stream",
     "text": [
      "Processing Participants: 100%|██████████| 12/12 [11:21<00:00, 56.80s/it, Participant=H012]\n"
     ]
    }
   ],
   "source": [
    "run_notebook_with_progress(participant_ids, notebook_to_run, participant_id_placeholder)"
   ]
  },
  {
   "cell_type": "code",
   "execution_count": null,
   "id": "8ee6119c",
   "metadata": {},
   "outputs": [],
   "source": []
  },
  {
   "cell_type": "code",
   "execution_count": null,
   "id": "eb764521",
   "metadata": {},
   "outputs": [],
   "source": []
  }
 ],
 "metadata": {
  "kernelspec": {
   "display_name": "Python 3 (ipykernel)",
   "language": "python",
   "name": "python3"
  },
  "language_info": {
   "codemirror_mode": {
    "name": "ipython",
    "version": 3
   },
   "file_extension": ".py",
   "mimetype": "text/x-python",
   "name": "python",
   "nbconvert_exporter": "python",
   "pygments_lexer": "ipython3",
   "version": "3.8.13"
  }
 },
 "nbformat": 4,
 "nbformat_minor": 5
}
