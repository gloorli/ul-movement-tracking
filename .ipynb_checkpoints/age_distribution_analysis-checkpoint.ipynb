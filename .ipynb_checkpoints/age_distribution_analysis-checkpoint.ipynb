{
 "cells": [
  {
   "cell_type": "code",
   "execution_count": 18,
   "id": "b254ec1c",
   "metadata": {},
   "outputs": [],
   "source": [
    "from utilities import *\n",
    "from group_analysis_functions import extract_data_from_csv"
   ]
  },
  {
   "cell_type": "code",
   "execution_count": 19,
   "id": "87bdd183",
   "metadata": {},
   "outputs": [],
   "source": [
    "#PATH \n",
    "screening_data = '../CreateStudy/screening_data.csv'\n",
    "initial_path = '../CreateStudy'\n",
    "figures_path =  '../CreateStudy/figures'"
   ]
  },
  {
   "cell_type": "code",
   "execution_count": 20,
   "id": "ab6a2c6e",
   "metadata": {},
   "outputs": [],
   "source": [
    "data_dict = extract_data_screening_participant(screening_data)\n",
    "# Access the healthy and stroke datasets separately\n",
    "healthy_data = data_dict['H']\n",
    "stroke_data = data_dict['S']"
   ]
  },
  {
   "cell_type": "code",
   "execution_count": 21,
   "id": "3c0ac5f1",
   "metadata": {},
   "outputs": [
    {
     "data": {
      "text/plain": [
       "({'participant_id': array(['H001', 'H002', 'H003', 'H004', 'H005', 'H006', 'H007', 'H008',\n",
       "         'H009', 'H010', 'H011', 'H012', 'H013', 'H014'], dtype='<U4'),\n",
       "  'age': array([26, 24, 33, 55, 32, 31, 64, 55, 64, 57, 64, 57, 60, 65]),\n",
       "  'dominant_hand': array(['right', 'right', 'right', 'right', 'right', 'right', 'right',\n",
       "         'right', 'right', 'right', 'right', 'right', 'right', 'right'],\n",
       "        dtype='<U5'),\n",
       "  'affected_hand': array(['None', 'None', 'None', 'None', 'None', 'None', 'None', 'None',\n",
       "         'None', 'None', 'None', 'None', 'None', 'None'], dtype='<U4'),\n",
       "  'ARAT_score': array(['None', 'None', 'None', 'None', 'None', 'None', 'None', 'None',\n",
       "         'None', 'None', 'None', 'None', 'None', 'None'], dtype='<U4')},\n",
       " {'participant_id': array(['S002', 'S003', 'S004'], dtype='<U4'),\n",
       "  'age': array([70, 60, 29]),\n",
       "  'dominant_hand': array(['right', 'right', 'right'], dtype='<U5'),\n",
       "  'affected_hand': array(['left', 'left', 'right'], dtype='<U5'),\n",
       "  'ARAT_score': array(['None', '3', '57'], dtype='<U4')})"
      ]
     },
     "execution_count": 21,
     "metadata": {},
     "output_type": "execute_result"
    }
   ],
   "source": [
    "healthy_data, stroke_data"
   ]
  },
  {
   "cell_type": "code",
   "execution_count": 22,
   "id": "a6b59a52",
   "metadata": {},
   "outputs": [],
   "source": [
    "healthy_age_array = healthy_data['age']\n",
    "stroke_age_array = stroke_data['age']\n",
    "stroke_arat_score = stroke_data['ARAT_score']"
   ]
  },
  {
   "cell_type": "code",
   "execution_count": 23,
   "id": "10c7f4d9",
   "metadata": {},
   "outputs": [
    {
     "data": {
      "text/plain": [
       "array(['None', '3', '57'], dtype='<U4')"
      ]
     },
     "execution_count": 23,
     "metadata": {},
     "output_type": "execute_result"
    }
   ],
   "source": [
    "stroke_arat_score"
   ]
  },
  {
   "cell_type": "code",
   "execution_count": 24,
   "id": "a71334e6",
   "metadata": {},
   "outputs": [],
   "source": [
    "import matplotlib.pyplot as plt\n",
    "import seaborn as sns\n",
    "import pandas as pd\n",
    "import numpy as np\n",
    "\n",
    "def side_by_side_box_plot_age(data1, data2, labels=None, x_axis_labels=None, save_path=None):\n",
    "    \"\"\"\n",
    "    Plots two arrays as side-by-side vertical box plots on the same plot using Seaborn.\n",
    "\n",
    "    Args:\n",
    "        data1 (numpy.ndarray): First array of data.\n",
    "        data2 (numpy.ndarray): Second array of data.\n",
    "        labels (list, optional): Labels for the two box plots.\n",
    "        x_axis_labels (list, optional): Labels for the x-axis.\n",
    "\n",
    "    Returns:\n",
    "        None\n",
    "    \"\"\"\n",
    "  \n",
    "    # Combine the data into a DataFrame for easier plotting with Seaborn\n",
    "    df1 = pd.DataFrame({'Age': data1, 'Group': np.repeat(labels[0], len(data1))})\n",
    "    df2 = pd.DataFrame({'Age': data2, 'Group': np.repeat(labels[1], len(data2))})\n",
    "    df = pd.concat([df1, df2])\n",
    "  \n",
    "    # Customize Seaborn style\n",
    "    sns.set(style=\"whitegrid\")\n",
    "    sns.set_palette(\"pastel\")\n",
    "  \n",
    "    # Create the Seaborn plot\n",
    "    plt.figure(figsize=(10, 6))\n",
    "    ax = sns.boxplot(x='Group', y='Age', data=df, width=0.3)\n",
    "  \n",
    "    # Adjust box properties for a more compact look\n",
    "    for patch in ax.artists:\n",
    "        r, g, b, a = patch.get_facecolor()\n",
    "        patch.set_facecolor((r, g, b, .6))\n",
    "  \n",
    "    # Add titles and labels\n",
    "    plt.ylabel(\"Age\")\n",
    "    plt.title(\"Age Distribution Comparison between Healthy and Stroke Groups\")\n",
    "  \n",
    "    if x_axis_labels:\n",
    "        plt.xticks(ticks=range(len(x_axis_labels)), labels=x_axis_labels)\n",
    "    \n",
    "    if save_path is not None:\n",
    "        filename = f'boxplot_age_distribution.png'\n",
    "        full_path = f\"{save_path}/{filename}\"\n",
    "        plt.savefig(full_path)\n",
    "        print(f\"Figure saved at {full_path}\")\n",
    "  \n",
    "    plt.show()\n"
   ]
  },
  {
   "cell_type": "code",
   "execution_count": 25,
   "id": "1bbca64e",
   "metadata": {},
   "outputs": [
    {
     "name": "stdout",
     "output_type": "stream",
     "text": [
      "Figure saved at ../CreateStudy/figures/boxplot_age_distribution.png\n"
     ]
    },
    {
     "data": {
      "image/png": "[encoded data removed]",
      "text/plain": [
       "<Figure size 720x432 with 1 Axes>"
      ]
     },
     "metadata": {},
     "output_type": "display_data"
    }
   ],
   "source": [
    "# Plot Boxplot\n",
    "side_by_side_box_plot_age(healthy_age_array, stroke_age_array, labels=['H', 'S'], x_axis_labels=['Healthy', 'Stroke'], save_path = figures_path)"
   ]
  },
  {
   "cell_type": "code",
   "execution_count": 8,
   "id": "d1668605",
   "metadata": {},
   "outputs": [],
   "source": [
    "## CORRELATION ## "
   ]
  },
  {
   "cell_type": "code",
   "execution_count": 9,
   "id": "b8da57d4",
   "metadata": {},
   "outputs": [],
   "source": [
    "import numpy as np\n",
    "import matplotlib.pyplot as plt\n",
    "from scipy.stats import spearmanr\n",
    "\n",
    "def plot_spearman_correlation(array1, array2, title, path_to_save=None, alpha=0.05):\n",
    "    \"\"\"\n",
    "    Plots a scatter plot of two arrays along with a fitted linear regression line.\n",
    "    \n",
    "    Args:\n",
    "        array1 (numpy.ndarray): The first array of data points.\n",
    "        array2 (numpy.ndarray): The second array of data points.\n",
    "        title (str): The title of the plot.\n",
    "        path_to_save (str, optional): Path to the directory where the plot should be saved.\n",
    "                                     If None, the plot will be displayed instead.\n",
    "        alpha (float, optional): The significance level for hypothesis testing (default is 0.05).\n",
    "    \"\"\"\n",
    "    # Calculate the Spearman correlation coefficient and p-value\n",
    "    correlation_coefficient, p_value = spearmanr(array1, array2)\n",
    "\n",
    "    # Create a larger figure and axis\n",
    "    plt.figure(figsize=(10, 6))\n",
    "    ax = plt.gca()\n",
    "\n",
    "    # Create a scatter plot\n",
    "    plt.scatter(array1, array2, label=f\"Spearman coefficient ρ = {correlation_coefficient:.2f}\\n p-value = {p_value:.4f}\")\n",
    "\n",
    "    # Add a linear regression line\n",
    "    coefs = np.polyfit(array1, array2, 1)\n",
    "    line_fit = np.polyval(coefs, array1)\n",
    "    plt.plot(array1, line_fit, color='red', label='Linear Fit')\n",
    "\n",
    "    # Add labels and a legend\n",
    "    plt.xlabel(\"Age\")\n",
    "    plt.ylabel(\"Optimal parameter\")\n",
    "    plt.title(title)\n",
    "    plt.legend(bbox_to_anchor=(0, 1), loc='upper left')\n",
    "\n",
    "    # Save the plot if a path is provided\n",
    "    if path_to_save is not None:\n",
    "        plt.savefig(f\"{path_to_save}/{title}.png\")\n",
    "        print(f\"Plot saved at: {path_to_save}/{title}.png\")\n",
    "    else:\n",
    "        # Show the plot\n",
    "        plt.show()\n",
    "\n",
    "    # Interpret the correlation coefficient and p-value\n",
    "    if p_value < alpha:\n",
    "        significance = \"Statistically significant\"\n",
    "    else:\n",
    "        significance = \"Not statistically significant\"\n",
    "\n",
    "    if correlation_coefficient >= 0.8:\n",
    "        meaning = \"Very strong positive monotonic relationship\"\n",
    "    elif correlation_coefficient >= 0.6:\n",
    "        meaning = \"Strong positive monotonic relationship\"\n",
    "    elif correlation_coefficient >= 0.4:\n",
    "        meaning = \"Moderate positive monotonic relationship\"\n",
    "    elif correlation_coefficient >= 0.2:\n",
    "        meaning = \"Weak positive monotonic relationship\"\n",
    "    elif correlation_coefficient > -0.2:\n",
    "        meaning = \"Very weak or no monotonic relationship\"\n",
    "    elif correlation_coefficient > -0.4:\n",
    "        meaning = \"Weak negative monotonic relationship\"\n",
    "    elif correlation_coefficient > -0.6:\n",
    "        meaning = \"Moderate negative monotonic relationship\"\n",
    "    elif correlation_coefficient > -0.8:\n",
    "        meaning = \"Strong negative monotonic relationship\"\n",
    "    else:\n",
    "        meaning = \"Very strong negative monotonic relationship\"\n",
    "\n",
    "    print(f\"The Spearman correlation coefficient is {correlation_coefficient:.2f}.\")\n",
    "    print(f\"The p-value is {p_value:.4f}.\")\n",
    "    print(f\"Interpretation: {meaning}.\")\n",
    "    print(f\"Significance: {significance} at alpha = {alpha}.\")"
   ]
  },
  {
   "cell_type": "code",
   "execution_count": 10,
   "id": "10ba7a10",
   "metadata": {},
   "outputs": [],
   "source": [
    "# For Healthy Group \n",
    "# Get the AC thresholds\n",
    "participant_group = 'H'\n",
    "csv_file_names = ['optimal_threshold_AC.csv', 'optimal_threshold_GM.csv']\n",
    "# Get the  csv file paths for each participant \n",
    "csv_files_dict = find_specific_csv_files(initial_path, csv_file_names, participant_group)\n",
    "optimal_threshold_AC_path =  csv_files_dict['optimal_threshold_AC.csv']\n",
    "optimal_threshold_GM_path = csv_files_dict['optimal_threshold_GM.csv']\n",
    "# Get the optimal thresholds from the csv file paths \n",
    "group_optimal_threshold_AC_NDH, group_optimal_threshold_AC_DH = extract_data_from_csv(optimal_threshold_AC_path)\n",
    "group_optimal_threshold_GM_NDH, group_optimal_threshold_GM_DH = extract_data_from_csv(optimal_threshold_GM_path)"
   ]
  },
  {
   "cell_type": "code",
   "execution_count": 11,
   "id": "8b81b826",
   "metadata": {},
   "outputs": [
    {
     "data": {
      "text/plain": [
       "{'optimal_threshold_AC.csv': ['../CreateStudy\\\\H001\\\\optimal_threshold_AC.csv',\n",
       "  '../CreateStudy\\\\H002\\\\optimal_threshold_AC.csv',\n",
       "  '../CreateStudy\\\\H003\\\\optimal_threshold_AC.csv',\n",
       "  '../CreateStudy\\\\H004\\\\optimal_threshold_AC.csv',\n",
       "  '../CreateStudy\\\\H005\\\\optimal_threshold_AC.csv',\n",
       "  '../CreateStudy\\\\H006\\\\optimal_threshold_AC.csv',\n",
       "  '../CreateStudy\\\\H007\\\\optimal_threshold_AC.csv',\n",
       "  '../CreateStudy\\\\H008\\\\optimal_threshold_AC.csv',\n",
       "  '../CreateStudy\\\\H009\\\\optimal_threshold_AC.csv'],\n",
       " 'optimal_threshold_GM.csv': ['../CreateStudy\\\\H001\\\\optimal_threshold_GM.csv',\n",
       "  '../CreateStudy\\\\H002\\\\optimal_threshold_GM.csv',\n",
       "  '../CreateStudy\\\\H003\\\\optimal_threshold_GM.csv',\n",
       "  '../CreateStudy\\\\H004\\\\optimal_threshold_GM.csv',\n",
       "  '../CreateStudy\\\\H005\\\\optimal_threshold_GM.csv',\n",
       "  '../CreateStudy\\\\H006\\\\optimal_threshold_GM.csv',\n",
       "  '../CreateStudy\\\\H007\\\\optimal_threshold_GM.csv',\n",
       "  '../CreateStudy\\\\H008\\\\optimal_threshold_GM.csv',\n",
       "  '../CreateStudy\\\\H009\\\\optimal_threshold_GM.csv']}"
      ]
     },
     "execution_count": 11,
     "metadata": {},
     "output_type": "execute_result"
    }
   ],
   "source": [
    "csv_files_dict"
   ]
  },
  {
   "cell_type": "code",
   "execution_count": 12,
   "id": "d3408ddb",
   "metadata": {},
   "outputs": [
    {
     "data": {
      "text/plain": [
       "([37.0, 49.0, 53.0, 57.0, 55.0, 57.0, 55.0, 55.0, 75.0],\n",
       " [59.0, 47.0, 69.0, 69.0, 49.0, 65.0, 41.0, 55.0, 69.0])"
      ]
     },
     "execution_count": 12,
     "metadata": {},
     "output_type": "execute_result"
    }
   ],
   "source": [
    "group_optimal_threshold_GM_NDH, group_optimal_threshold_GM_DH"
   ]
  },
  {
   "cell_type": "code",
   "execution_count": 13,
   "id": "f3e2b1d0",
   "metadata": {},
   "outputs": [
    {
     "data": {
      "text/plain": [
       "([2.4, 13.5, 26.38, 169.86, 25.01, 64.31, 107.3, 33.46, 17.96],\n",
       " [17.41, 4.0, 1.6, 0.0, 7.67, 4.41, 121.3, 69.68, 1.6])"
      ]
     },
     "execution_count": 13,
     "metadata": {},
     "output_type": "execute_result"
    }
   ],
   "source": [
    "group_optimal_threshold_AC_NDH, group_optimal_threshold_AC_DH"
   ]
  },
  {
   "cell_type": "code",
   "execution_count": 14,
   "id": "338dd64a",
   "metadata": {},
   "outputs": [],
   "source": [
    "## FIX THIS ## \n",
    "# Remove the last element since analysis not done yet\n",
    "healthy_age_array_temp = healthy_age_array[:-3]"
   ]
  },
  {
   "cell_type": "code",
   "execution_count": 15,
   "id": "e0a7c3dd",
   "metadata": {},
   "outputs": [
    {
     "ename": "ValueError",
     "evalue": "all the input array dimensions for the concatenation axis must match exactly, but along dimension 0, the array at index 0 has size 11 and the array at index 1 has size 9",
     "output_type": "error",
     "traceback": [
      "\u001b[1;31m---------------------------------------------------------------------------\u001b[0m",
      "\u001b[1;31mValueError\u001b[0m                                Traceback (most recent call last)",
      "Input \u001b[1;32mIn [15]\u001b[0m, in \u001b[0;36m<cell line: 2>\u001b[1;34m()\u001b[0m\n\u001b[0;32m      1\u001b[0m \u001b[38;5;66;03m# Plot correlation figures between AC thresholds and age\u001b[39;00m\n\u001b[1;32m----> 2\u001b[0m \u001b[43mplot_spearman_correlation\u001b[49m\u001b[43m(\u001b[49m\u001b[43mhealthy_age_array_temp\u001b[49m\u001b[43m,\u001b[49m\u001b[43m \u001b[49m\u001b[43mgroup_optimal_threshold_AC_NDH\u001b[49m\u001b[43m,\u001b[49m\u001b[43m \u001b[49m\u001b[38;5;124;43m\"\u001b[39;49m\u001b[38;5;124;43mScatter Plot with Spearman Correlation and Linear Fit for optimal AC Thresholds (NDH)\u001b[39;49m\u001b[38;5;124;43m\"\u001b[39;49m\u001b[43m)\u001b[49m\n\u001b[0;32m      3\u001b[0m plot_spearman_correlation(healthy_age_array_temp, group_optimal_threshold_AC_DH, \u001b[38;5;124m\"\u001b[39m\u001b[38;5;124mScatter Plot with Spearman Correlation and Linear Fit for optimal AC Thresholds (DH)\u001b[39m\u001b[38;5;124m\"\u001b[39m)\n",
      "Input \u001b[1;32mIn [9]\u001b[0m, in \u001b[0;36mplot_spearman_correlation\u001b[1;34m(array1, array2, title, path_to_save, alpha)\u001b[0m\n\u001b[0;32m      6\u001b[0m \u001b[38;5;124;03m\"\"\"\u001b[39;00m\n\u001b[0;32m      7\u001b[0m \u001b[38;5;124;03mPlots a scatter plot of two arrays along with a fitted linear regression line.\u001b[39;00m\n\u001b[0;32m      8\u001b[0m \u001b[38;5;124;03m\u001b[39;00m\n\u001b[1;32m   (...)\u001b[0m\n\u001b[0;32m     15\u001b[0m \u001b[38;5;124;03m    alpha (float, optional): The significance level for hypothesis testing (default is 0.05).\u001b[39;00m\n\u001b[0;32m     16\u001b[0m \u001b[38;5;124;03m\"\"\"\u001b[39;00m\n\u001b[0;32m     17\u001b[0m \u001b[38;5;66;03m# Calculate the Spearman correlation coefficient and p-value\u001b[39;00m\n\u001b[1;32m---> 18\u001b[0m correlation_coefficient, p_value \u001b[38;5;241m=\u001b[39m \u001b[43mspearmanr\u001b[49m\u001b[43m(\u001b[49m\u001b[43marray1\u001b[49m\u001b[43m,\u001b[49m\u001b[43m \u001b[49m\u001b[43marray2\u001b[49m\u001b[43m)\u001b[49m\n\u001b[0;32m     20\u001b[0m \u001b[38;5;66;03m# Create a larger figure and axis\u001b[39;00m\n\u001b[0;32m     21\u001b[0m plt\u001b[38;5;241m.\u001b[39mfigure(figsize\u001b[38;5;241m=\u001b[39m(\u001b[38;5;241m10\u001b[39m, \u001b[38;5;241m6\u001b[39m))\n",
      "File \u001b[1;32m~\\anaconda3\\lib\\site-packages\\scipy\\stats\\_stats_py.py:4898\u001b[0m, in \u001b[0;36mspearmanr\u001b[1;34m(a, b, axis, nan_policy, alternative)\u001b[0m\n\u001b[0;32m   4896\u001b[0m b, _ \u001b[38;5;241m=\u001b[39m _chk_asarray(b, axis)\n\u001b[0;32m   4897\u001b[0m \u001b[38;5;28;01mif\u001b[39;00m axisout \u001b[38;5;241m==\u001b[39m \u001b[38;5;241m0\u001b[39m:\n\u001b[1;32m-> 4898\u001b[0m     a \u001b[38;5;241m=\u001b[39m \u001b[43mnp\u001b[49m\u001b[38;5;241;43m.\u001b[39;49m\u001b[43mcolumn_stack\u001b[49m\u001b[43m(\u001b[49m\u001b[43m(\u001b[49m\u001b[43ma\u001b[49m\u001b[43m,\u001b[49m\u001b[43m \u001b[49m\u001b[43mb\u001b[49m\u001b[43m)\u001b[49m\u001b[43m)\u001b[49m\n\u001b[0;32m   4899\u001b[0m \u001b[38;5;28;01melse\u001b[39;00m:\n\u001b[0;32m   4900\u001b[0m     a \u001b[38;5;241m=\u001b[39m np\u001b[38;5;241m.\u001b[39mrow_stack((a, b))\n",
      "File \u001b[1;32m<__array_function__ internals>:5\u001b[0m, in \u001b[0;36mcolumn_stack\u001b[1;34m(*args, **kwargs)\u001b[0m\n",
      "File \u001b[1;32m~\\anaconda3\\lib\\site-packages\\numpy\\lib\\shape_base.py:656\u001b[0m, in \u001b[0;36mcolumn_stack\u001b[1;34m(tup)\u001b[0m\n\u001b[0;32m    654\u001b[0m         arr \u001b[38;5;241m=\u001b[39m array(arr, copy\u001b[38;5;241m=\u001b[39m\u001b[38;5;28;01mFalse\u001b[39;00m, subok\u001b[38;5;241m=\u001b[39m\u001b[38;5;28;01mTrue\u001b[39;00m, ndmin\u001b[38;5;241m=\u001b[39m\u001b[38;5;241m2\u001b[39m)\u001b[38;5;241m.\u001b[39mT\n\u001b[0;32m    655\u001b[0m     arrays\u001b[38;5;241m.\u001b[39mappend(arr)\n\u001b[1;32m--> 656\u001b[0m \u001b[38;5;28;01mreturn\u001b[39;00m \u001b[43m_nx\u001b[49m\u001b[38;5;241;43m.\u001b[39;49m\u001b[43mconcatenate\u001b[49m\u001b[43m(\u001b[49m\u001b[43marrays\u001b[49m\u001b[43m,\u001b[49m\u001b[43m \u001b[49m\u001b[38;5;241;43m1\u001b[39;49m\u001b[43m)\u001b[49m\n",
      "File \u001b[1;32m<__array_function__ internals>:5\u001b[0m, in \u001b[0;36mconcatenate\u001b[1;34m(*args, **kwargs)\u001b[0m\n",
      "\u001b[1;31mValueError\u001b[0m: all the input array dimensions for the concatenation axis must match exactly, but along dimension 0, the array at index 0 has size 11 and the array at index 1 has size 9"
     ]
    }
   ],
   "source": [
    "# Plot correlation figures between AC thresholds and age\n",
    "plot_spearman_correlation(healthy_age_array_temp, group_optimal_threshold_AC_NDH, \"Scatter Plot with Spearman Correlation and Linear Fit for optimal AC Thresholds (NDH)\")\n",
    "plot_spearman_correlation(healthy_age_array_temp, group_optimal_threshold_AC_DH, \"Scatter Plot with Spearman Correlation and Linear Fit for optimal AC Thresholds (DH)\")"
   ]
  },
  {
   "cell_type": "code",
   "execution_count": null,
   "id": "c293ef7e",
   "metadata": {},
   "outputs": [],
   "source": [
    "# Plot correlation figures between FS thresholds and age\n",
    "plot_spearman_correlation(healthy_age_array_temp, group_optimal_threshold_GM_NDH, \"Scatter Plot with Spearman Correlation and Linear Fit for optimal Functional Space (NDH)\")\n",
    "plot_spearman_correlation(healthy_age_array_temp, group_optimal_threshold_GM_DH, \"Scatter Plot with Spearman Correlation and Linear Fit for optimal Functional Space (DH)\")"
   ]
  },
  {
   "cell_type": "code",
   "execution_count": null,
   "id": "3dea1d81",
   "metadata": {},
   "outputs": [],
   "source": [
    "# For Stroke Group \n",
    "# Get the AC thresholds\n",
    "participant_group = 'S'\n",
    "csv_file_names = ['optimal_threshold_AC.csv', 'optimal_threshold_GM.csv']\n",
    "# Get the  csv file paths for each participant \n",
    "csv_files_dict = find_specific_csv_files(initial_path, csv_file_names, participant_group)\n",
    "stroke_optimal_threshold_AC_path =  csv_files_dict['optimal_threshold_AC.csv']\n",
    "stroke_optimal_threshold_GM_path = csv_files_dict['optimal_threshold_GM.csv']\n",
    "# Get the optimal thresholds from the csv file paths \n",
    "stroke_group_optimal_threshold_AC_NDH, stroke_group_optimal_threshold_AC_DH = extract_data_from_csv(stroke_optimal_threshold_AC_path)\n",
    "stroke_group_optimal_threshold_GM_NDH, stroke_group_optimal_threshold_GM_DH = extract_data_from_csv(stroke_optimal_threshold_GM_path)"
   ]
  },
  {
   "cell_type": "code",
   "execution_count": null,
   "id": "826de5a8",
   "metadata": {},
   "outputs": [],
   "source": [
    "stroke_optimal_threshold_AC_path, stroke_optimal_threshold_GM_path"
   ]
  },
  {
   "cell_type": "code",
   "execution_count": null,
   "id": "c646623a",
   "metadata": {},
   "outputs": [],
   "source": [
    "stroke_group_optimal_threshold_AC_NDH, stroke_group_optimal_threshold_AC_DH"
   ]
  },
  {
   "cell_type": "code",
   "execution_count": null,
   "id": "5cd2736a",
   "metadata": {},
   "outputs": [],
   "source": [
    "stroke_group_optimal_threshold_GM_NDH, stroke_group_optimal_threshold_GM_DH "
   ]
  },
  {
   "cell_type": "code",
   "execution_count": null,
   "id": "aa46c9be",
   "metadata": {},
   "outputs": [],
   "source": [
    "# To test \n",
    "stroke_group_optimal_threshold_AC_NDH = stroke_group_optimal_threshold_AC_DH = [45,41,68]"
   ]
  },
  {
   "cell_type": "code",
   "execution_count": null,
   "id": "4d7bd075",
   "metadata": {},
   "outputs": [],
   "source": [
    "stroke_age_array"
   ]
  },
  {
   "cell_type": "code",
   "execution_count": null,
   "id": "a39c2697",
   "metadata": {},
   "outputs": [],
   "source": [
    "# Plot correlation between AC thresholds and age  \n",
    "plot_spearman_correlation(stroke_age_array, stroke_group_optimal_threshold_AC_NDH, x_value='Age')\n",
    "plot_spearman_correlation(stroke_age_array, stroke_group_optimal_threshold_AC_DH, x_value='Age')\n",
    "# plot_spearman_correlation(stroke_arat_score, stroke_group_optimal_threshold_AC_DH, x_value='ARAT Score')\n",
    "# plot_spearman_correlation(stroke_arat_score, stroke_group_optimal_threshold_AC_NH, x_value='ARAT Score')"
   ]
  },
  {
   "cell_type": "code",
   "execution_count": null,
   "id": "375812d5",
   "metadata": {},
   "outputs": [],
   "source": []
  }
 ],
 "metadata": {
  "kernelspec": {
   "display_name": "Python 3 (ipykernel)",
   "language": "python",
   "name": "python3"
  },
  "language_info": {
   "codemirror_mode": {
    "name": "ipython",
    "version": 3
   },
   "file_extension": ".py",
   "mimetype": "text/x-python",
   "name": "python",
   "nbconvert_exporter": "python",
   "pygments_lexer": "ipython3",
   "version": "3.8.13"
  }
 },
 "nbformat": 4,
 "nbformat_minor": 5
}
